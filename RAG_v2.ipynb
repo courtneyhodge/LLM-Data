{
 "cells": [
  {
   "cell_type": "markdown",
   "metadata": {},
   "source": [
    "# Import required packages"
   ]
  },
  {
   "cell_type": "code",
   "execution_count": 8,
   "metadata": {
    "tags": []
   },
   "outputs": [],
   "source": [
    "#load packages\n",
    "import pandas as pd\n",
    "import os\n",
    "import json\n",
    "import chromadb\n",
    "from sentence_transformers import SentenceTransformer\n",
    "import torch\n",
    "from huggingface_hub import login\n",
    "from dotenv import load_dotenv\n",
    "import torchvision"
   ]
  },
  {
   "cell_type": "markdown",
   "metadata": {},
   "source": [
    "# Load in Documents"
   ]
  },
  {
   "cell_type": "code",
   "execution_count": 2,
   "metadata": {
    "tags": []
   },
   "outputs": [
    {
     "data": {
      "application/vnd.microsoft.datawrangler.viewer.v0+json": {
       "columns": [
        {
         "name": "index",
         "rawType": "int64",
         "type": "integer"
        },
        {
         "name": "Unnamed: 0",
         "rawType": "int64",
         "type": "integer"
        },
        {
         "name": "Major",
         "rawType": "object",
         "type": "string"
        },
        {
         "name": "Text",
         "rawType": "object",
         "type": "string"
        },
        {
         "name": "School",
         "rawType": "object",
         "type": "string"
        }
       ],
       "conversionMethod": "pd.DataFrame",
       "ref": "8c37d0df-0976-4032-a4fb-42ba718997d0",
       "rows": [
        [
         "0",
         "0",
         "Architectural History, B.Ar.H.",
         "Architectural History, B.Ar.H. Print-Friendly Page (opens a new window) Return to: School of Architecture: Degree Programs Universal Curriculum Requirements To be awarded a degree from the School of Architecture, students are required to complete universal curriculum requirements in addition to the program requirements provided below. The school universal curriculum requirements can be found on the school Degree Programs page . Program Requirements Undergraduate students entering the School of Architecture share a Common First Year in the School of Architecture . Students take core courses in Architectural History, Architecture, and Urban & Environmental Planning to provide a framework for the study of the built environment through observation, analysis, and design. Students must pass each core course with a grade of C- or higher. During the spring semester of the first year, students choose an intended major: Bachelor of Architectural History (BArH), Bachelor of Science Architecture, or Bachelor of Urban and Environmental Planning. The undergraduate curriculum in architectural history provides an introduction to the discipline within a liberal arts program. Students select one of the following two concentrations: Architectural History or Historic Preservation. Students in both concentrations take the first-year School of Architecture curriculum, including ARH 1010 and ARH 1020. ARH 4591(certain ARTH 4591 courses may be substituted with permission of the Director of the Undergraduate Program) is taken in the third year as a preparatory research and writing course for the thesis. ARH 4999, taken during the fourth year, allows students to research and write an independent advanced paper on a topic of their choice while working closely with a faculty member in the department. Under certain circumstances, permission may be requested from the Director of the Undergraduate Program to work with a faculty member from outside the department. This thesis, with faculty comments, becomes part of the student’s permanent record. Those students considering the 4+1 Track in the Master of Architectural History program should take ARH 4999 during the fall semester of their fourth year. International travel and education abroad can provide unparalleled opportunities for students to refine and extend their study of architectural history. Department faculty enthusiastically encourage international study, and advisers work closely with students to integrate rigorous and rewarding study abroad experiences into their major. All students must take courses in the following areas in the College of Arts & Sciences as general education requirements: 6 credits in Natural Sciences/Mathematics, 6 credits in English/Foreign Literature (one of which must be ENWR), 6 credits in Historical Studies/Social Sciences. Students must demonstrate an intermediate level of competency in a foreign language. (4) Grading Standards Students must have a minimum of 122 credits with at least a 2.000 GPA in order to graduate with a Bachelor of Architectural History degree (10). The department also offers a minor in Architectural History, and a minor is also available in Historic Preservation. Concentrations Architectural History This concentration allows students to focus on architectural history from all periods and prepares them to write a thesis on a subject of their choice. To ensure breadth of knowledge, students must take at least one course from all four of the following distribution areas: the Americas, Asia & the Pacific, Africa & the Mediterranean, and Europe. An additional four Architectural History electives (12 credits) may be taken in areas of the student’s choice. The content of at least two courses taken to fulfill major requirements must be primarily before 1400. These courses must include ARH 4591 and ARH 4999. Appropriate historic preservation, landscape architecture, and art history courses may be used to fulfill architectural history requirements after consultation with the Director of the Undergraduate Program. The following is a recommended course of study. The sequence may be altered in consultation with the student’s advisor. Core Courses Each of the Following: ARH 4591 - Undergraduate Seminar in the History of Architecture Credits:          3 OR ARTH 4591 - Undergraduate Seminar in the History of Art Credits:          3 with permission of the Director of the Undergraduate Program ARH 4999 - Major Special Study: Thesis Credits: 3 NOTE: Students interested in the 4+1 Track in the MArH program should discuss that option with the Director of the Undergraduate Program during their third year. Those students should take ARH 4999 in the Fall semester. All students should identify a topic and advisor for their 4 th year thesis in the semester before they plan to write the thesis (ARH 4999). 4+1 students should plan to submit their MARH thesis prospectus during spring semester of their 4 th year in consultation with the Director of Graduate Studies. Electives Each of the Following: Historic Preservation This concentration allows students to gain knowledge and expertise in the multi-disciplinary area of historic preservation, cultural landscapes, and public history. In addition to the shared courses described above (the School of Architecture first-year curriculum, including ARH 1010 & ARH 1020, general education requirements, and foreign language competency), students in the Historic Preservation concentration take two additional electives (6 credits) in Architectural History, ARH 4591, ARH 4999, and six courses (18 credits) in Historic Preservation. Relevant courses in Historic Preservation include those offered in the Architectural History department, as well as approved courses in Architecture (including studios with a preservation emphasis), Landscape Architecture, and Urban and Environmental Planning. Relevant courses from the College of Arts & Sciences and the School of Engineering may also be applied towards the concentration, with the Historic Preservation Program Director’s approval. An internship in preservation, cultural landscapes, or public history is recommended. The following is a recommended course of study. The sequence may be altered in consultation with the student’s advisor. Core Courses Each of the Following: ARH 4591 - Undergraduate Seminar in the History of Architecture Credits:          3 OR ARTH 4591 - Undergraduate Seminar in the History of Art Credits:          3 with permission of the Director of Undergraduate Program ARH 4999 - Major Special Study: Thesis Credits: 3 NOTE: Students interested in the 4+1 Track in the MArH program should discuss that option with the Director of the Undergraduate Program during their third year. Those students should take ARH 4999 in the Fall semester. Those students should take ARH 4999 in the Fall semester. All students should identify a topic and advisor for their 4 th year thesis in the semester before they plan to write the thesis (ARH 4999). 4+1 students should plan to submit their MARH thesis prospectus during spring semester of their 4 th year in consultation with the Director of Graduate Studies. Those students who wish to pursue the Historic Preservation Certificate as part of the MArH program should meet with the Director of the Historic Preservation program during their third year to discuss this option. Electives Each of the Following: Notes (1) A Calculus course and a Physics course are recommended for those planning graduate study in architecture. (2) To ensure breadth of knowledge, students must take at least one course from all four of the following distribution areas: the Americas; Asia & the Pacific; Africa & the Mediterranean, ; Europe. (3) The content of at least two courses taken to fulfill major requirements must be primarily before 1400. (4) Students must attain, at a minimum, an intermediate level in one foreign language, usually by completing 12 credits of foreign language study through the 2020 level. Any remaining credits may be used for additional languages or as open electives. Those with previous language study may contact the appropriate department for placement in advanced-level courses (i.e., to begin study at the University with a 2000-level rather than a 1000-level language course). Students scoring at least 620 on an SAT II foreign language achievement examination have satisfied this requirement. Those intending to continue in the field of architectural history are advised to study a second language. (5) Students should take advantage of courses in preservation and building technology when they are available. (6) Related art history courses offered by the Department of Art and related courses in the history of landscape architecture may be taken for architectural history credit with the permission of the Undergraduate Director. (7) Approved Historic Preservation fieldwork courses include ARH 3604 Field Methods in Historic Preservation, ARH 3611 Historic Preservation at UVA. (8) Historic Preservation electives include ARH 3616 History of American Building Technology, LAR 4230 Cultural Landscapes, PLAN 3310 History of Cities and Planning, PLAN 5300 Preservation Planning. (9) With the approval of the Director of Undergraduate Studies. (10) C urricular Practical Training (CPT) credit received for summer or fall break internships cannot be applied toward overall credits for degree requirements.  Course credits are applied to allow the student to participate in an internship/externship per the F-1 eligibility requirements and regulations. Additional Information For more information, please visit www.arch.virginia.edu . Back to Top | Print-Friendly Page (opens a new window) All catalogs © 2025 University of Virginia. Powered by Modern Campus Catalog™ .",
         "School of Architecture"
        ],
        [
         "1",
         "1",
         "Architecture, B.S.",
         "Architecture, B.S. Print-Friendly Page (opens a new window) Return to: School of Architecture: Degree Programs At UVA School of Architecture, our undergraduate Architecture programs are framed by an innovative curriculum that addresses the many ways in which design shapes and invents the world around us. The work of our students and faculty is investigative, critical, articulate, experimental and rigorous. The undergraduate curriculum in Architecture introduces students to methodologies to critically understand and creatively transform the built environment. Design innovation requires creativity, technical knowledge, cultural awareness, risk-taking, and meaningful questioning. Our curriculum uses design as a mode of critical inquiry to explore questions and pose new visions for a range of scales, all of which constitute the disciplinary realm of architecture: from cities, territories, infrastructure, and buildings to rooms, installations, furniture, and clothing. The first year of study is a shared Common First Year curriculum, wherein students take courses in three School of Architecture departments: Architecture, Urban + Environmental Planning, and Architectural History. Universal Curriculum Requirements To be awarded a degree from the School of Architecture, students are required to complete universal curriculum requirements in addition to the program requirements provided below. The school universal curriculum requirements can be found on the school Degree Programs page . Program Requirements Undergraduate students entering the School of Architecture share a common first-year curriculum. Students take core courses in Architectural History, Architecture and Urban and Environmental Planning to provide a framework for the study of contemporary culture through observation, analysis, and considered design of our ongoing constructed occupation of the earth. Students must pass each core course with a grade of C- or higher. For the first year curriculum, please refer to Common First Year in the School of Architecture. During the spring semester of the first year, students choose an intended major: Bachelor of Science Architecture, Bachelor of Architectural History, or Bachelor of Urban and Environmental Planning. Core Requirements Grading Standards A student must receive a grade of at least a C- in required courses, design studios, and minor requirements or must retake the course. Students must complete each of the Following courses: ARCH 1010 - Lessons of the Lawn Credits: 3 ARCH 2010 - Foundation Studio II Credits: 6 ARCH 2710 - CAAD 3D Geometrical Modeling and Visualization Credits: 3 ARCH 2020 - Foundation Studio III Credits: 6 ARH 3403 - World Contemporary Architecture Credits: 3 ARCH 2114 - Sustainability and Systems in the Built Environment Credits:          3 ARCH 3010 - Foundation Studio IV Credits: 6 ARCH 3020 - Foundation Studio V Credits: 6 ARCH 3120 - Theories of Architecture Credits: 3 ARCH 3240 - Introduction to Structural Design Credits:          3 ARCH 3260 - Building Matters Credits: 3 ARCH 4010 - Research Studio Credits: 6 ARCH 4100 - Independent Design Research (Thesis) Seminar Credits:          3 ARCH 4020 - Advanced Design Research Studio Credits:          6 OR ARCH 4995 - Independent Design Research (Thesis) Studio Credits:          6 Open Electives (15 Credits) Humanities Elective (3 Credits) General Education Electives (12 Credits) Physics Electives (3 credits) Social /Behavioral Science Electives (3 credits) Notes Students interested in pursuing Independent Design Research (Thesis) Studio in their final year of study must apply for the IDR (Thesis) track and maintain the program requirements. If accepted, they must register for ARCH 4100 Independent Design Research (Thesis) Seminar in the fall semester in lieu of a School of Architecture Elective and ARCH 4995 Independent Design Research (Thesis) Studio in the spring semester in lieu of an ARCH 4020 Advanced Design Research Studio. The terms “Humanities Elective”, “Math/Natural Science Elective”, and “Social/Behavioral Science Elective” mean electives defined according to the corresponding area requirements of the College of Arts and Sciences. The term “General Education Elective” means an elective from any of these three categories. See also: Academic Rules, Curricular Requirements . One Open Elective per semester may be taken Credit/No Credit. A maximum of 8-degree credits will be granted for Ensemble Music or Dance. A maximum of 12-degree credits will be granted for AIRS, MISC, & NASC courses. PHYE “Physical Education” credits do not count toward degree totals. It may be necessary to use Open Electives to complete the requirements of a minor. Eligible students may receive up to three credits for one independent study course supervised and graded by eligible UVA faculty members. Only one “open elective” requirement within the architecture curriculum may be substituted with an independent study course. Independent courses are subject to the same policies as other courses. Final approval of the independent study course by the Undergraduate Program Director is required no later than one month prior to the start of the semester. Students planning to Study Abroad during their fall semester of their fourth year, must consult with Director of Advising and Academic Support and the Undergraduate Program Director. Public Professional Licensure Disclosure As a member of the State Authorizations Reciprocity Agreement, the University of Virginia (UVA) is authorized to provide curriculum in a distance learning environment to students located in all states in the United States except for California. (34 CFR 668.43(a)(6)& 34 CFR 668.72(n)). Upon the completion of the Bachelor of Science in Architecture at the UVA School of Architecture, graduates may be eligible for initial professional licensure in another U.S. state by applying to the licensing board or agency in that state. Please visit the University’s state authorization web pages to make an informed decision regarding which states’ educational requirements for initial licensure are met by this program. (668.43(a)(5) (v)(A) - (C)) Enrolled students who change their current (or mailing) address to a state other than Virginia should update this information immediately in the Student Information System as it may impact their ability to complete internship, practicum, or clinical hours, use Title IV funds, or meet licensure or certification requirements in the new state. (34 CFR 668.402). Additional Information For more information, please visit https://www.arch.virginia.edu/ . Back to Top | Print-Friendly Page (opens a new window) All catalogs © 2025 University of Virginia. Powered by Modern Campus Catalog™ .",
         "School of Architecture"
        ],
        [
         "2",
         "2",
         "Urban and Environmental Planning, B.U.E.P.",
         "Urban and Environmental Planning, B.U.E.P. Print-Friendly Page (opens a new window) Return to: School of Architecture: Degree Programs Undergraduate students entering the School of Architecture share a Common First Year in the School of Architecture curriculum. Students take core courses in Architectural History, Architecture, and Urban and Environmental Planning to provide a framework for the study of contemporary culture through observation, analysis, and design of built and natural environments. Students must pass each core course with a grade of C- or higher. During the spring semester of the first year, students choose an intended major: Bachelor of Architectural History, Bachelor of Science Architecture, or Bachelor of Urban and Environmental Planning. The Program in Urban and Environmental Planning balances professional planning skills and urban studies with a liberal arts education emphasizing interdisciplinary study. Students take courses in the social and natural sciences, the humanities, and in design fields that are complemented by professional planning and elective courses. Program graduates begin work in the public, private, or nonprofit sectors in urban and rural areas ranging from city and county planning offices to real estate and development firms to economic development agencies. Some students continue for graduate professional studies. The scope of the planner’s work encompasses present and future urban and environmental concerns, including such diverse issues such as environmental impact, quality of life, urban design, transportation, and the public and private costs of development and land use. Public sector planners work for all levels of government, formulating plans to redevelop or rehabilitate downtowns and neighborhoods, develop land aesthetically and profitably, create sustainable transportation plans, and regulate private development and impact to protect public interests. Planners frame long-range designs and shorter-term strategies that meet community plans and goals. Private sector planners employed with land developers, utilities, banks, property management firms, industries, architectural and design firms and other major corporations do similar work according to the particular concerns of each business. Planners in the nonprofit sector represent a variety of environmental, citizen advocacy, and community and economic development organizations.  Many of these concerns are integrated with the department’s focus on sustainable community development, social equity, and environmental planning, and pressing global challenges. Accreditation: The undergraduate program in Urban and Environmental Planning is accredited by the Planning Accreditation Board, sponsored jointly by the American Institute of Certified Planners and the Association of Collegiate Schools of Planning. Universal Curriculum Requirements To be awarded a degree from the School of Architecture, students are required to complete universal curriculum requirements in addition to the program requirements provided below. The school universal curriculum requirements can be found on the school Degree Programs page . Program Requirements Undergraduate students entering the School of Architecture share a common first-year curriculum. Students take core courses in Architectural History, Architecture and Urban and Environmental Planning to provide a framework for the study of contemporary culture through observation, analysis, and considered design of our ongoing constructed occupation of the earth. Students must pass each core course with a grade of C- or higher. For the first year curriculum, please refer to Common First Year in the School of Architecture. During the spring semester of the first year, students choose an intended major: Bachelor of Science Architecture, Bachelor of Architectural History, or Bachelor of Urban and Environmental Planning. Grading Standards Students must have a minimum of 122 credits with at least a 2.000 average in order to graduate with a Bachelor of Urban and Environmental Planning degree. A minimum of C- is required of all PLAN/PLAC and Language of Architecture courses. Core Requirements for a Bachelor of Urban and Environmental Planning Students who start the program as a First-year students will follow the curriculum listed below. Students who transfer in after their first year should consult with the Director of Undergraduate Studies about appropriate course substitutions. Students who wish to transfer to the program should consult with the Director of Undergraduate Studies before applying for transfer for the spring or fall semesters. If other prerequisites have been met, it is possible for transfer students to complete the required planning courses in two years. Please note: After the first year, the sequence of courses is flexible; students may take them in a different order from that suggested below. Core Courses Each of the Following: ECON 2010 - Principles of Economics: Microeconomics Credits: 3 ECON 2020 - Principles of Economics: Macroeconomics Credits: 3 PLAN 2110 - Digital Visualization for Planners Credits: 4 PLAN 2020 - Planning Design Credits: 4 PLAN 3020 - Planning in Government Credits: 3 PLAN 3030 - Neighborhoods, Community and Regions Credits:          3 PLAN 3050 - Planning Methods Credits: 3 PLAN 3060 - Law, Land and the Environment Credits: 3 PLAC 4010 - Neighborhood Planning Studio Credits: 4 Planning Application Course (PLAC), Credits: 3 (Planning applications courses are designated as PLAC. These courses emphasize fieldwork, analysis, plan development, and document preparations.) Social/Behavioral Science Elective ( 12 credits) Math/Natural Science Elective (6 credits) Humanities Elective (3 Credits) One of the Humanities or Open Elective credits must be of Non-Western Perspective designation (course deals substantially with a culture other than Western cultures; qualifying courses can be found in the SIS Course Catalog.) Open Electives (15 credits) One of the Humanities or Open Elective credits must be of Non-Western Perspective designation (course deals substantially with a culture other than Western cultures; qualifying courses can be found in the SIS Course Catalog.) Politics Elective (6 credits) Professional Elective (9 credits) A Professional Elective can be taken in any UVA professional school at the 3000-level or above. These can be from Architecture, Batten, Commerce, School of Education, Data Science, Darden, Engineering, Law, or Nursing. Only certain courses in Kinesiology fulfill this requirement with prior approval of the Director of Undergraduate Studies. The intent of the professional electives is to give students additional depth and breadth in courses that complement their study of cities and their impact and promise on the global world. PLAN Elective or Fourth Year Project (6 credits) Notes 1. ENWR 1510 is included to match the First Writing Requirement of the College of Arts and Sciences. See the English Department web page http://www.engl.virginia.edu/undergraduate/writing/placement for details and alternatives. Majors must also complete the Second Writing Requirement as specified by the College of Arts and Sciences. 2. One of the Humanities or Open Elective credits must be of Non-Western Perspective designation (course deals substantially with a culture other than Western cultures; qualifying courses can be found in the SIS Course Catalog.) 3. Natural Science and Math are required electives (Note: some EVSC are classified as Social Science). 4. Students are encourgaed to select PLAN 3070 to partially fulfill the Politics curriculum requirement. 5. Majors take six credits of Politics and 12 other credits of Social/ Behavioral Science in addition to ECON 2010 and 2020. 6. Planning Applications courses are designated as a PLAC. These courses emphasize fieldwork, analysis, plan development, urban design, document preparation, digital visualization, data collection and analysis, and formal presentations. PLAC 4010 is required for planning Fourth-year undergraduates. Public Professional Licensure Disclosure As a member of the State Authorizations Reciprocity Agreement, the University of Virginia (UVA) is authorized to provide curriculum in a distance learning environment to students located in all states in the United States except for California. (34 CFR 668.43(a)(6)& 34 CFR 668.72(n)). Upon completion of the Bachelor of Urban and Environmental Planning at the UVA School of Architecture, graduates may be eligible for initial professional licensure in another U.S. state by applying to the licensing board or agency in that state. Please visit the University’s state authorization web pages to make an informed decision regarding which states’ educational requirements for initial licensure are met by this program. (668.43(a)(5) (v)(A) - (C)) Enrolled students who change their current (or mailing) address to a state other than Virginia should update this information immediately in the Student Information System as it may impact their ability to complete internship, practicum, or clinical hours, use Title IV funds, or meet licensure or certification requirements in the new state. (34 CFR 668.402). Additional Information For more information, please visit https://www.arch.virginia.edu/ . Back to Top | Print-Friendly Page (opens a new window) All catalogs © 2025 University of Virginia. Powered by Modern Campus Catalog™ .",
         "School of Architecture"
        ],
        [
         "3",
         "3",
         "African-American and African Studies, B.A.",
         "African American and African Studies, B.A. Print-Friendly Page (opens a new window) Return to: College of Arts & Sciences: Departments/Programs Universal Curriculum Requirements To be awarded a degree from the College of Arts and Sciences, students are required to complete universal curriculum requirements in addition to the program requirements provided below. The school universal curriculum requirements can be found on the school Degree Programs page . Requirements for Major The African American and African Studies interdisciplinary major comprises nine courses (29 credits) taken within a program approved by the student’s AAS advisor. These courses may include classes taken before declaration of the major. In order to declare a major, a student must have taken, or be enrolled in the following: AAS 1010 - Introduction to African-American and African Studies I Credits: 4 AAS 1020 - Introduction to African-American and African Studies II Credits: 4 NOTE: Students must have an average of 2.0 in the major for it to be considered complete. Course Distribution The major requires a distribution of courses in the following areas and levels, all to be selected from the list of approved courses posted on the Woodson Institute’s website: AAS 1010 and AAS 1020, with a minimum grade of C in each course; One course concerning race and politics; One course in the humanities (art history, drama, English, French, media studies, music, philosophy, religious studies); One course in the social sciences or history, in addition to AAS 1010 and AAS 1020 (American studies, anthropology, economics, history, linguistics, politics, psychology, sociology, studies in women and gender); Three electives selected from a list of approved courses; One course about Africa, which may be fulfilled by requirements (3), (4) or (5) above or (8) below; Three courses at or above the 3000 level, which may be fulfilled by requirements (2-6); and One 4000-level seminar requiring an 18-20 research paper, which may count toward requirement (6) above if applicable. Each semester the Carter G. Woodson Institute publishes a list of courses that satisfy the above requirements. Students should speak with an advisor or with the Director of Undergraduate Programs if they have any questions about how to distribute these courses. Students frequently find that African American and African Studies works well as a double major with another discipline in the humanities or social sciences. Up to three courses (11 credits) in another departmental major or minor may count toward an AAS major, if the courses are among those listed on the Woodson Institute’s website at http://artsandsciences.virginia.edu/woodson/courses/index.html . Up to six transfer credits from relevant study abroad may be counted toward the major, with the advance written permission of the AAS Director of Undergraduate Programs. Exceptions to any of these requirements are made only upon written petition to the Director of Undergraduate Programs. No petitions are accepted after a student completes the seventh semester. Necessary courses for students to take: AAS 1010 - Introduction to African-American and African Studies I Credits: 4 AAS 1020 - Introduction to African-American and African Studies II Credits: 4 Distinguished Majors Program in African American and African Studies The Distinguished Majors Program in African American and African Studies affords qualified students the opportunity to do advanced research, and to receive, at graduation, the honor of “Distinction” or “High Distinction.” Third-year students with a superior academic record are encouraged to apply. Entry into the program Students are eligible to apply if they have achieved a GPA of 3.4 in all coursework prior to application for the program. The applicant must obtain the agreement of a thesis supervisor. The supervisor may be any faculty member who offers courses that count toward the AAS major. The thesis supervisor must agree to direct the thesis research, and the applicant must submit the name one appropriate secondary reader. Application should be made to the AAS Director the Distinguished Majors Program by filling out a one-page application form and attaching a one-to-two page proposal with a bibliography. A copy should also be submitted to the AAS Director of Undergraduate Programs. Requirements for completion of the program Satisfaction of all College requirements as stated in the Undergraduate Record with an overall GPA of at least 3.4. Fulfillment of the requirements for the normal AAS major. Completion of the following courses during the fourth year: AAS 4070 - Distinguished Major Thesis I Credits:          3 AAS 4080 - Distinguished Major Thesis II Credits:          3 In addition to AAS 4070 and AAS 4080, completion of at least six more credits of coursework at or above the 4000 level. Completion of a thesis of about 8,000 words or 40 pages. Independent Study AAS 4993 allows students to work on an individual research project that culminates in a 20-page research paper. Students wishing to pursue this opportunity should obtain an AAS Independent Study Form at the Woodson Institute, which explains the procedure and requirements. Students must propose a topic to an appropriate faculty member and review the Independent Study Form with the supervisor. After obtaining the supervisor’s signature on this form and on a course action form, the student should submit both forms to the AAS Director of Undergraduate Programs. Additional Information For more information, contact the Director of Undergraduate Programs in AAS, at the Carter G. Woodson Institute, University of Virginia, 108 Minor Hall, P.O. Box 400162, Charlottesville, VA 22904-4162; (434) 924-3109; www.virginia.edu/woodson . Back to Top | Print-Friendly Page (opens a new window) All catalogs © 2025 University of Virginia. Powered by Modern Campus Catalog™ .",
         "College of Arts and Sciences"
        ],
        [
         "4",
         "4",
         "Anthropology, B.A.",
         "Anthropology, B.A. Print-Friendly Page (opens a new window) Return to: College of Arts & Sciences: Degree Programs Universal Curriculum Requirements To be awarded a degree from the College of Arts and Sciences, students are required to complete universal curriculum requirements in addition to the program requirements provided below. The school universal curriculum requirements can be found on the school Degree Programs page . Prerequisites for Declaring the Major In order to declare the major, a student must have completed one anthropology course. Program Requirements Eleven courses (33 credits) taken within a program approved by a departmental undergraduate advisor are required for a major. These eleven courses may include courses taken before declaration of the major, and up to two from outside the Department of Anthropology. Courses taken outside the anthropology department, including courses transferred from other institutions or study-abroad programs, may count toward the area requirements for the major.  These credits are subject to approval by a major advisor.  The maximum number of credits is limited to six and a minimum of three is typically approved, but normally they may not count toward the above 3000-level requirement for the major. In order to declare a major, a student must have completed one anthropology course. Grades lower than C- (in anthropology) will not count toward the major. No course for the major may be taken on a CR/NC basis. Normally at least 18 credits must be taken after declaration of the major. The major requires a distribution of courses in the following areas: At least one Gateway course: 1010 Introduction to Anthropology, 2120 The Concept of Culture, 2160 Culture and the Environment, 2400 Language and Culture, 2415 Language in Human Evolution, 2450 Language and the Environment, 2800 Introduction to Archaeology, 2820 The Emergence of Cities and States At least one Foundation course: Two of the following three anthropological foundations courses: 1010, 3010 History and Theory of Anthropology, , and/or 3020 Using Anthropology. The faculty recommends that majorsstudents take all both, three, but they must take onetwo. Students interested in pursuing the DMP normally take both 3010 and 3020. One C apstone course: 4591 Majors Seminar, during the third or fourth year. course at the 2000-level (or above) in each of these areas within anthropology: socio-cultural anthropology; archaeology; and linguistics; ANTH 4591 during the third or fourth year; Distributional Electives : one course at the 2000-level or above in each of these areas within anthropology: socio-cultural, archaeology, and linguistic. Upper-level E lectives : At least three courses at or above the 3000 level, in addition to the Foundation and Capstone courses 3010 and/or 3020 and 4591; tThese courses must be taken in the Department of Anthropology at University of Virginia.  They may overlap with the Distributional Electives. Students frequently find that anthropology provides a cognate discipline which can be paired with other studies in the humanities and sciences. Many of these students choose to double-major in anthropology and another discipline. Up to six credits in another department major may be counted toward an anthropology major if they are consistent with a student’s overall program. Specific courses, therefore, may be counted toward both majors, but the student must receive approval from a departmental advisor in advance. Exceptions to any of these requirements are made only upon written petition to the Undergraduate Committee of the Department of Anthropology. No petitions are accepted after the completion of a student’s seventh semester. A number of informal activities are associated with the department. Among these is the Virginia Anthropology Society of the University of Virginia. Majors are encouraged to attend meetings of the group and to attend lectures and symposia sponsored by the department. The major requires a distribution of courses in the following areas: Gateway Course At least one Gateway course from the following: ANTH 1010 - Introduction to Anthropology Credits: 3 ANTH 2120 - The Concept of Culture Credits: 3 ANTH 2160 - Culture and the Environment Credits:          3 ANTH 2400 - Language and Culture Credits: 3 ANTH 2415 - Language in Human Evolution Credits: 3 ANTH 2450 - Language & Environment Credits:          3 ANTH 2800 - Introduction to Archaeology Credits: 3 ANTH 2820 - The Emergence of States and Cities Credits: 3 Foundation Course At least one Foundation course from the following: ANTH 3010 - Theory and History of Anthropology Credits: 3 ANTH 3020 - Using Anthropology Credits: 3 Note: The faculty recommends that majors take both, but one is required. Students interested in pursuing the DMP normally take both 3010 and 3020. Capstone Course One Capstone course: ANTH 4591 - Majors Seminar Credits:          3 (During the third or fourth year) Distributional Electives One course at the 2000-level or above in each of these areas within anthropology: socio-cultural, archaeology, and linguistic. Upper-level Electives At least three courses at or above the 3000 level, in addition to the Foundation and Capstone courses; these courses must be taken in the Department of Anthropology at University of Virginia. They may overlap with the Distributional Electives. B.A. in Anthropology with a Specialist Concentration Students who major in anthropology have the option to work toward one of three specialized concentrations within the major, which will appear on their University transcript. To complete a concentration, students must complete all other requirements for the major, and fulfill the specific concentration requirements as listed below. A student may choose to specialize in one concentration only. Specific classes that can be counted toward each concentration can be found in the Appendix below, and on the Department website. Students should consult with concentration faculty when choosing courses, as these lists will be updated periodically, and not all classes will be offered in every semester. When selecting Concentration courses, students should keep in mind that a maximum of only two courses (6 credits) from beyond Anthropology (courses with other than an ANTH prefix) can be counted toward the Anthropology major. To declare a concentration, students should meet with the faculty advisor for that concentration. Contact information can be found on the Department website, or from the Director of Undergraduate Programs in Anthropology. The three concentrations are as follows: B.A. in Anthropology with Concentration in Culture and Communication The Culture and Communication concentration in Anthropology offers students a program of study focused on communicative practices across a diversity of world cultures, modalities of embodied discourse, and the technologically mediated channels that increasingly connect people around the globe. Work in this area ranges from the micro-scale of everyday dialogue to the transnational scale of commerce, migrations, politics, and development. The program prepares students to bring critical thinking and holistic conceptual tools to an increasingly globalized workplace. There communicative practices vary across almost every conceivable dimension and attention to cultural differences can mean the difference between communication and miscommunication, justice and injustice, and even life and death. Culture and Communication introduces students to theoretical approaches from linguistic anthropology, cognitive anthropology, and other anthropological subfields. It builds on interdisciplinary ties that include sociolinguistics, psycholinguistics, conversation analysis, exchange theory, art, media, and mediated discourse analysis. It thus prepes students to understand the impact of differing modes of expression, cultural styles, and interactional genres on the accomplishment of group tasks, the creation of human connections, and the building of a globally interconnected world. Requirements: Fulfill all non-elective requirements for the B.A. in Anthropology, including the Linguistic Anthropology distribution requirement. When choosing electives toward your Anthropology major, include a total of four, as follows: 2-4 classes from Culture and Communication Concentration Course List A up to 2 classes from Culture and Communication Course List B B.A. in Anthropology with Concentration in Indigenous Worlds Students in this concentration will be exposed to ethnographic studies and anthropological theories devoted to “the Indigenous.” For anthropologists, this term commonly refers to the knowledges and worldviews of the many peoples who are our disciplinary interlocutors around the globe. In American contexts, “Indigenous” usually refers to First Peoples of the Western hemisphere, and includes Native American Studies. At the transnational scale, indigenous peoples’ movements are political realities, converging at sites like the UN Permanent Forum on Indigenous Issues, and World Conservation Congress. This concentration takes an unbounded approach, engaging with all these perspectives and scales, and many others, without reducing “the Indigenous” to any of them. Students will be given the opportunity to engage with the vast array of possibilities for being human, studying for example both colonial-era encounters, and contemporary Indigenous relationships to issues such as sustainable livelihoods, public health, and environmental care. This concentration offers unique opportunities for interdisciplinary learning across two areas of distinction at UVA: Indigenous arts and curation, and the environmental humanities. Requirements: Fulfill all non-elective requirements for the B.A. in Anthropology. When choosing electives toward your Anthropology major, include the following: 3 classes from Indigenous Worlds Concentration Course List A 2 classes from Indigenous Worlds Concentration Course List B B.A. in Anthropology with a Concentration in Medical Anthropology, Ethics, and Care Students in this concentration will study a diverse range of factors that impact the body, and the ways that people understand, experience, and respond to states of health and illness.  Students will critically examine the complex ethical orientations that shape the manners in which people care for or abandon one another in various conditions of exposure, vulnerability, and well-being.  Anthropological knowledge and practice offer a unique resource for questioning our own assumptions on these and other matters. Students in this concentration will use such knowledge to address some of the most difficult problems we face today, and in so doing, help create the world anew. Requirements: Fulfill all non-elective requirements for the B.A. in Anthropology. When choosing electives toward your Anthropology major, include the following: ANTH 2280 Medical Anthropology 4 additional courses chosen from the Medical Anthropology Concentration Course List Independent Study in Anthropology For students who want to work on an individual research project, ANTH 4993 allows considerable flexibility. There is no formal limitation on the kind of project as long as, a faculty member is willing to direct it, but the project should not duplicate what is already available in a regular course. Applicants should have their projects roughly defined when they apply to the faculty member. The normal requirements for ANTH 4993 are a reading list comparable in substance to those in regular courses and a term paper and oral examination at the end of the semester. Distinguished Majors Program in Anthropology Students with superior academic performance are encouraged to apply for the departmental Distinguished Majors Program (DMP) in which they write a thesis demonstrating independent study of high quality. The requirements for admission to the DMP are: satisfaction of all College requirements as stated in this Record with a GPA of at least 3.25 in all university courses; a GPA of at least 3.400 in all courses taken as part of the anthropology major; Permission of an advisor, who may be any member of the departmental faculty willing to take on the responsibility of supervising the thesis and is normally someone to whom the students have already demonstrated their ability in an upper-level course; application for admission (normally in the spring semester of the Third Year) to the Director of the Distinguished Majors Program, by declaring their DMP graduation semester/year, and by including their relevant course transcripts showing their two cumulative GPAs, along with the selected thesis topic, and the names of the first and second faculty thesis advisors. On admission, student registers with the primary faculty advisor for ANTH 4998 in the first semester of the Program, and for ANTH 4999 in the second semester for revising and finalizing the thesis in consultation with the two faculty readers. A DMP thesis involving field research on human subjects requires the University’s IRB Approval. This should be acquired before beginning the fieldwork, with the help of the primary faculty advisor. In consultation with the Director of the Distinguished Majors Program. In the final semester of the Program, the student takes into account the criticisms and suggestions of the two advisors and other interested faculty members, and submits a finished thesis of approximately 10,000 words to the two advisors three weeks before the Grades Due date for the semester. For regular Spring Graduation, the thesis is to be submitted by April 15. The level of distinction awarded in a thesis is approved by both the faculty advisors. At the end of the spring semester each year, an oral Presentation of all DMP theses will be held in Brooks Hall Commons. Each Distinguished Major and his/her committee members will be present. Theses Presentations will be open to the public. Friends and faculty are invited. Any prospective and current DMP students wishing help in entering, setting up or conducting their Program should contact the DMP director (see Department website), and be in contact with their major advisor and the Director of Undergraduate Programs. Course Lists Courses at the 1000 and 2000 levels have no prerequisites or expectations of experience and are open to all students. Courses at the 3000 and 4000 level are advanced undergraduate courses and often assume that students have previous coursework in anthropology. These are general prerequisites and individual professors may consider other courses within or outside the department to be sufficient preparation. Courses at the 5000 level have third- or fourth-year status and prior course work in anthropology as a general prerequisite. These courses are designed primarily for majors and graduate students, but are open by permission to other qualified, sufficiently motivated undergraduates. General and Theoretical Anthropology ANTH 1010 - Introduction to Anthropology Credits: 3 ANTH 3010 - Theory and History of Anthropology Credits: 3 ANTH 3020 - Using Anthropology Credits: 3 ANTH 4591 - Majors Seminar Credits:          3 Principles of Sociocultural Analysis ANTH 1050 - Anthropology of Globalization Credits: 3 ANTH 2120 - The Concept of Culture Credits: 3 ANTH 2153 - North American Indians Credits: 3 ANTH 2210 - Marriage and the Family Credits: 3 ANTH 2250 - Nationalism, Racism, Multiculturalism Credits: 3 ANTH 2260 - Water Worlds: the Anthropology of Water Credits:          3 ANTH 2270 - Race, Gender, and Medical Science Credits: 3 ANTH 2280 - Medical Anthropology Credits: 3 ANTH 2285 - Anthropology of Development and Humanitarianism Credits: 3 ANTH 2310 - Symbol and Ritual Credits: 3 ANTH 2320 - Anthropology of Religion Credits: 3 ANTH 2340 - Anthropology of Birth and Death Credits: 3 ANTH 2365 - Art and Anthropology Credits: 3 ANTH 2370 - Japanese Culture Credits: 3 ANTH 2375 - Disaster Credits: 3 ANTH 2405 - Your Heritage Language Credits:          3 ANTH 2415 - Language in Human Evolution Credits: 3 ANTH 2500 - Cultures, Regions, and Civilizations Credits: 3 ANTH 2557 - Culture Through Film Credits: 3 ANTH 2560 - Hierarchy and Equality Credits: 3 ANTH 2575 - Migrants and Minorities Credits: 3 ANTH 2590 - Social and Cultural Anthropology Credits: 3 ANTH 2620 - Sex, Gender, and Culture Credits: 3 ANTH 2621 - Culture, Gender and Violence Credits: 3 ANTH 2625 - Imagining Africa Credits: 3 ANTH 3070 - Introduction to Musical Ethnography Credits: 3 ANTH 3100 - Indigenous Landscapes Credits: 3 ANTH 3105 - Love and Romantic Intimacies Credits: 3 ANTH 3129 - Marriage, Mortality, Fertility Credits: 3 ANTH 3130 - Disease, Epidemics and Society Credits: 3 ANTH 3152 - Rainforests of Flesh / Peoples of Spirit Credits: 3 ANTH 3155 - Anthropology of Everyday American Life Credits: 3 ANTH 3170 - Anthropology of Media Credits: 3 ANTH 3171 - Culture of Cyberspace: Digital Fluency for an Internet-Enabled Society Credits: 3 ANTH 3175 - Native American Art: The Astor Collection Credits: 3 ANTH 3205 - Modern Families, Global Worlds Credits: 3 ANTH 3220 - Economic Anthropology Credits: 3 ANTH 3240 - The Anthropology of Food Credits: 3 ANTH 3255 - Anthropology of Time and Space Credits: 3 ANTH 3260 - Globalization and Development Credits: 3 ANTH 3270 - Anthropology of Politics Credits: 3 ANTH 3300 - Tournaments and Athletes Credits: 3 ANTH 3320 - Shamanism, Healing, and Ritual Credits: 3 ANTH 3325 - Capitalism: Cultural Perspectives Credits: 3 ANTH 3340 - Ecology and Society: An Introduction to the New Ecological Anthropology Credits: 3 ANTH 2040 - Tell Me Who You Are: Ethnographic Interviewing and Participatory Research Credits: 3 ANTH 3370 - Power and the Body Credits: 3 ANTH 3380 - The Nature of Nature Credits: 3 ANTH 3550 - Ethnography Credits: 3 ANTH 3360 - The Museum in Modern Culture Credits: 3 ANTH 3590 - Social and Cultural Anthropology Credits:          3 ANTH 3630 - Chinese Family and Religion Credits: 3 ANTH 3680 - Australian Aboriginal Art and Culture Credits: 3 ANTH 3700 - Globalizing India: Society, Bazaars and Cultural Politics Credits: 3 ANTH 3705 - Anthropology of the Middle East Credits: 3 ANTH 4060 - People, Culture and Environment of Southern Africa Credits: 3 ANTH 4590 - Social & Cultural Anthropology Credits: 3 Linguistic Anthropology ANTH 2400 - Language and Culture Credits: 3 ANTH 2410 - Sociolinguistics Credits: 3 ANTH 2420 - Language and Gender Credits: 3 LING 2430 - Languages of the World Credits:          3 ANTH 2440 - Language and Cinema Credits: 3 ANTH 2470 - Reflections of Exile: Jewish Languages and their Communities Credits: 3 ANTH 2541 - Topics in Linguistics Credits: 3 ANTH 3440 - Language and Emotion Credits: 3 ANTH 3450 - Native American Languages Credits: 3 ANTH 3455 - African Languages Credits: 3 ANTH 3470 - Language and Culture in the Middle East Credits: 3 ANTH 3480 - Language and Prehistory Credits: 3 ANTH 3490 - Language and Thought Credits: 3 ANTH 3541 - Topics in Linguistics Credits:          3 ANTH 2450 - Language & Environment Credits:          3 Archaeology ANTH 2450 - Language & Environment Credits:          3 ANTH 2589 - Topics in Archaeology Credits: 3 ANTH 2800 - Introduction to Archaeology Credits: 3 ANTH 2810 - Human Origins Credits: 3 ANTH 2820 - The Emergence of States and Cities Credits: 3 ANTH 2890 - Unearthing the Past Credits: 3 ANTH 3589 - Topics in Archaeology Credits:          3 ANTH 3810 - Field Methods in Archaeology Credits: 3 to 6 ANTH 3840 - Archaeology of the Middle East Credits: 3 ANTH 3870 - Archaeology of Virginia Credits: 3 ANTH 3880 - African Archaeology Credits:          3 ANTH 3890 - Archaeology of the American Southwest Credits: 3 ANTH 4840 - Quantitative Analysis in Anthropology I Credits: 3 ANTH 4841 - Quantitative Analysis II Credits: 3 Independent Study and Research ANTH 4993 - Independent Study in Anthropology Credits: 1 to 6 ANTH 4998 - Distinguished Majors Thesis Research Credits: 3 ANTH 4999 - Distinguished Majors Thesis Writing Credits: 3 Swahili SWAH 1010 - Introductory Swahili I Credits: 3 SWAH 1020 - Introductory Swahili II Credits: 3 Culture and Communication Concentration Course List A ANTH 2365 - Art and Anthropology Credits: 3 ANTH 2400 - Language and Culture Credits: 3 ANTH 2410 - Sociolinguistics Credits: 3 ANTH 2415 - Language in Human Evolution Credits: 3 ANTH 2420 - Language and Gender Credits: 3 LING 2430 - Languages of the World Credits:          3 ANTH 2440 - Language and Cinema Credits: 3 ANTH 2470 - Reflections of Exile: Jewish Languages and their Communities Credits: 3 ANTH 3170 - Anthropology of Media Credits: 3 ANTH 3171 - Culture of Cyberspace: Digital Fluency for an Internet-Enabled Society Credits: 3 ANTH 3175 - Native American Art: The Astor Collection Credits: 3 ANTH 3440 - Language and Emotion Credits: 3 ANTH 3450 - Native American Languages Credits: 3 ANTH 3455 - African Languages Credits: 3 ANTH 3470 - Language and Culture in the Middle East Credits: 3 ANTH 3480 - Language and Prehistory Credits: 3 ANTH 3490 - Language and Thought Credits: 3 ANTH 3680 - Australian Aboriginal Art and Culture Credits: 3 ANTH 5190 - Science and Culture Credits: 3 ANTH 5425 - Language Contact Credits: 3 ANTH 5470 - Language and Identity Credits: 3 ANTH 5475 - Multimodal Interaction Credits: 3 ANTH 5480 - Literacy and Orality Credits: 3 ANTH 5485 - Discourse Analysis Credits: 3 ANTH 5490 - Speech Play and Verbal Art Credits: 3 ANTH 5495 - Discourse Prosody Credits: 3 AMST 2460 - Language in the U.S. Credits: 3 ASL 3450 - Comparative Linguistics: ASL and English Credits: 3 EDHS 4300 - Psycholinguistics & Communication Credits: 3 LNGS 2220 - Black English Credits: 3 LNGS 2240 - Southern American English Credits: 3 MDST 2440 - Language and Cinema Credits: 3 MDST 3140 - Mass Media and American Politics Credits: 3 MDST 3701 - New Media Culture Credits: 3 MEST 2470 - Reflections of Exile: Jewish Languages and their Communities Credits: 3 MEST 3470 - Language and Culture in the Middle East Credits: 3 SPAN 4202 - The Spanish Language and its Societies Credits:          3 Culture and Communication Concentration Course List B ANTH 2541 - Topics in Linguistics Credits: 3 ANTH 3070 - Introduction to Musical Ethnography Credits: 3 ANTH 3340 - Ecology and Society: An Introduction to the New Ecological Anthropology Credits: 3 ANTH 3370 - Power and the Body Credits: 3 ANTH 3541 - Topics in Linguistics Credits:          3 ANTH 4420 - Theories of Language Credits: 3 ANTH 5220 - Economic Anthropolgy Credits: 3 ANTH 5401 - Linguistic Field Methods Credits: 3 ANTH 5410 - Phonology Credits: 3 ANTH 5440 - Morphology Credits: 3 ANTH 5541 - Topics in Linguistics Credits: 3 ANTH 5549 - Topics in Theoretical Linguistics and Linguistic Anthropology Credits: 3 ASL 2300 - Women and Gender In The Deaf World Credits: 3 ASL 4750 - Contemporary Deaf Studies Credits: 3 DRAM 2070 - Public Speaking Credits: 3 ENMD 5010 - Introduction to Old English Credits: 3 FREN 3030 - Phonetics Credits: 3 FREN 4020 - History of the French Language Credits: 3 FREN 4035 - Tools and Techniques of Translation Credits: 3 LING 3400 - Structure of English Credits: 3 LING 5409 - Acoustic Phonetics Credits: 3 LNGS 3250 - Introduction to Linguistic Theory and Analysis Credits: 3 LNGS 5000 - Linguistic Principles in Language Pedagogy Credits: 3 PSYC 4112 - Psychology and Deaf People Credits:          3 PSYC 4115 - Multiculturalism in the Deaf Community Credits:          3 PSYC 4120 - Psychology of Reading Credits:          3 PSYC 5355 - Neurobiology of Speech and Language Credits: 3 RUSS 5030 - Advanced Russian I Credits: 3 RUSS 5032 - Advanced Russian Grammar: Syntax Credits: 3 SPAN 3000 - Phonetics: The Sounds of Spanish Credits:          3 SPAN 4201 - Hispanic Dialectology and Bilingualism Credits: 3 SPAN 4203 - Foundational Structures of Spanish Credits:          3 SPAN 4210 - Historical Panorama of the Spanish Language II Credits:          3 Indigenous Worlds Concentration Course List A AMST 2231 - Native Americans in Popular Culture Credits: 3 AMST 2233 - Contemporary Native American Literature Credits: 3 AMST 3641 - Native America Credits: 3 ANTH 1050 - Anthropology of Globalization Credits: 3 ANTH 2153 - North American Indians Credits: 3 ANTH 2250 - Nationalism, Racism, Multiculturalism Credits: 3 ANTH 2365 - Art and Anthropology Credits: 3 ANTH 3152 - Rainforests of Flesh / Peoples of Spirit Credits: 3 ANTH 3450 - Native American Languages Credits: 3 ANTH 3680 - Australian Aboriginal Art and Culture Credits: 3 ANTH 5885 - Archaeology of Colonial Expansions Credits: 3 HIAF 3112 - African Environmental History Credits: 3 Indigenous Worlds Concentration Course List B AMST 2420 - Cultural Landscapes of the United States Credits: 3 ANTH 3340 - Ecology and Society: An Introduction to the New Ecological Anthropology Credits: 3 ANTH 3380 - The Nature of Nature Credits: 3 ANTH 3480 - Language and Prehistory Credits: 3 ANTH 3490 - Language and Thought Credits: 3 ANTH 3880 - African Archaeology Credits:          3 ARTH 1505 - Art and the Modern World Credits:          3 HILA 2001 - Colonial Latin America, 1500-1824 Credits: 3 MDST 3407 - Racial Borders & American Cinema Credits: 3 MDST 3650 - Shooting the Western Credits: 3 RELG 2210 - Religion, Ethics, & Global Environment Credits:          3 RELG 3360 - Conquests and Religions in the Americas, 1400s-1830s Credits:          3 Medical Anthropology Concentration Course List ANTH 2270 - Race, Gender, and Medical Science Credits: 3 ANTH 2285 - Anthropology of Development and Humanitarianism Credits: 3 ANTH 2340 - Anthropology of Birth and Death Credits: 3 ANTH 2375 - Disaster Credits: 3 ANTH 3129 - Marriage, Mortality, Fertility Credits: 3 ANTH 3130 - Disease, Epidemics and Society Credits: 3 ANTH 3240 - The Anthropology of Food Credits: 3 ANTH 3370 - Power and the Body Credits: 3 ANTH 3290 - Biopolitics and the Contemporary Condition Credits: 3 ANTH 3295 - Moral Experience Credits: 3 ANTH 3300 - Tournaments and Athletes Credits: 3 ANTH 3390 - Pregnancy, Birthing and the Post-Partum Credits: 3 ANTH 3440 - Language and Emotion Credits: 3 ANTH 5190 - Science and Culture Credits: 3 ANTH 5240 - Relational Ethics Credits: 3 ANTH 5360 - World Mental Health Credits: 3 ANTH 5528 - Topics in Race Theory Credits: 3 BIOL 3090 - Our World of Infectious Disease Credits: 3 BIOL 4660 - How do they do it? Method and Logic in Biomedical Science Credits: 3 HIEU 3321 - The Scientific Revolution, 1450-1700 Credits: 3 HIST 2150 - Global Environmental History Credits: 3 MDST 3306 - Sexuality, Gender, Class and Race in the Teen Film Credits: 3 MDST 3409 - LGBTQ Issues in the Media Credits: 3 MDST 4108 - Media, Drugs, and Violence in Latin America Credits: 3 PHIL 1740 - Issues of Life and Death Credits: 3 PHIL 3651 - Genes, Nature and Justice Credits: 3 RELG 2650 - Religion, Ethics & Health Care Credits:          3 SOC 2498 - Prozac Culture Credits: 3 SOC 3700 - Health and Society Credits: 3 SOC 4740 - Sociol Persp on Trauma, Atrocity, & Responsibility Credits: 3 Additional Information For more information, contact the Director of the Undergraduate Program (see Department website), Department of Anthropology, Brooks Hall, P.O. Box 400120, Charlottesville, VA 22904-4120; (434) 924-7044; Fax: (434) 924-1350; http://anthropology.virginia.edu/ Back to Top | Print-Friendly Page (opens a new window) All catalogs © 2025 University of Virginia. Powered by Modern Campus Catalog™ .",
         "College of Arts and Sciences"
        ]
       ],
       "shape": {
        "columns": 4,
        "rows": 5
       }
      },
      "text/html": [
       "<div>\n",
       "<style scoped>\n",
       "    .dataframe tbody tr th:only-of-type {\n",
       "        vertical-align: middle;\n",
       "    }\n",
       "\n",
       "    .dataframe tbody tr th {\n",
       "        vertical-align: top;\n",
       "    }\n",
       "\n",
       "    .dataframe thead th {\n",
       "        text-align: right;\n",
       "    }\n",
       "</style>\n",
       "<table border=\"1\" class=\"dataframe\">\n",
       "  <thead>\n",
       "    <tr style=\"text-align: right;\">\n",
       "      <th></th>\n",
       "      <th>Unnamed: 0</th>\n",
       "      <th>Major</th>\n",
       "      <th>Text</th>\n",
       "      <th>School</th>\n",
       "    </tr>\n",
       "  </thead>\n",
       "  <tbody>\n",
       "    <tr>\n",
       "      <th>0</th>\n",
       "      <td>0</td>\n",
       "      <td>Architectural History, B.Ar.H.</td>\n",
       "      <td>Architectural History, B.Ar.H. Print-Friendly ...</td>\n",
       "      <td>School of Architecture</td>\n",
       "    </tr>\n",
       "    <tr>\n",
       "      <th>1</th>\n",
       "      <td>1</td>\n",
       "      <td>Architecture, B.S.</td>\n",
       "      <td>Architecture, B.S. Print-Friendly Page (opens ...</td>\n",
       "      <td>School of Architecture</td>\n",
       "    </tr>\n",
       "    <tr>\n",
       "      <th>2</th>\n",
       "      <td>2</td>\n",
       "      <td>Urban and Environmental Planning, B.U.E.P.</td>\n",
       "      <td>Urban and Environmental Planning, B.U.E.P. Pri...</td>\n",
       "      <td>School of Architecture</td>\n",
       "    </tr>\n",
       "    <tr>\n",
       "      <th>3</th>\n",
       "      <td>3</td>\n",
       "      <td>African-American and African Studies, B.A.</td>\n",
       "      <td>African American and African Studies, B.A. Pri...</td>\n",
       "      <td>College of Arts and Sciences</td>\n",
       "    </tr>\n",
       "    <tr>\n",
       "      <th>4</th>\n",
       "      <td>4</td>\n",
       "      <td>Anthropology, B.A.</td>\n",
       "      <td>Anthropology, B.A. Print-Friendly Page (opens ...</td>\n",
       "      <td>College of Arts and Sciences</td>\n",
       "    </tr>\n",
       "  </tbody>\n",
       "</table>\n",
       "</div>"
      ],
      "text/plain": [
       "   Unnamed: 0                                       Major  \\\n",
       "0           0              Architectural History, B.Ar.H.   \n",
       "1           1                          Architecture, B.S.   \n",
       "2           2  Urban and Environmental Planning, B.U.E.P.   \n",
       "3           3  African-American and African Studies, B.A.   \n",
       "4           4                          Anthropology, B.A.   \n",
       "\n",
       "                                                Text  \\\n",
       "0  Architectural History, B.Ar.H. Print-Friendly ...   \n",
       "1  Architecture, B.S. Print-Friendly Page (opens ...   \n",
       "2  Urban and Environmental Planning, B.U.E.P. Pri...   \n",
       "3  African American and African Studies, B.A. Pri...   \n",
       "4  Anthropology, B.A. Print-Friendly Page (opens ...   \n",
       "\n",
       "                         School  \n",
       "0        School of Architecture  \n",
       "1        School of Architecture  \n",
       "2        School of Architecture  \n",
       "3  College of Arts and Sciences  \n",
       "4  College of Arts and Sciences  "
      ]
     },
     "execution_count": 2,
     "metadata": {},
     "output_type": "execute_result"
    }
   ],
   "source": [
    "# Read in csv for majors\n",
    "majors_meta = pd.read_csv(\"Scraped_data/majors_meta_cleaned.csv\")\n",
    "majors_meta.head()"
   ]
  },
  {
   "cell_type": "code",
   "execution_count": 3,
   "metadata": {
    "tags": []
   },
   "outputs": [
    {
     "data": {
      "application/vnd.microsoft.datawrangler.viewer.v0+json": {
       "columns": [
        {
         "name": "index",
         "rawType": "int64",
         "type": "integer"
        },
        {
         "name": "ClassNumber",
         "rawType": "int64",
         "type": "integer"
        },
        {
         "name": "Mnemonic",
         "rawType": "object",
         "type": "string"
        },
        {
         "name": "Number",
         "rawType": "object",
         "type": "string"
        },
        {
         "name": "Section",
         "rawType": "object",
         "type": "string"
        },
        {
         "name": "Type",
         "rawType": "object",
         "type": "string"
        },
        {
         "name": "Units",
         "rawType": "object",
         "type": "string"
        },
        {
         "name": "Instructor",
         "rawType": "object",
         "type": "string"
        },
        {
         "name": "Days",
         "rawType": "object",
         "type": "string"
        },
        {
         "name": "Room",
         "rawType": "object",
         "type": "string"
        },
        {
         "name": "Title",
         "rawType": "object",
         "type": "string"
        },
        {
         "name": "Topic",
         "rawType": "object",
         "type": "unknown"
        },
        {
         "name": "Status",
         "rawType": "object",
         "type": "string"
        },
        {
         "name": "Enrollment",
         "rawType": "int64",
         "type": "integer"
        },
        {
         "name": "EnrollmentLimit",
         "rawType": "int64",
         "type": "integer"
        },
        {
         "name": "Waitlist",
         "rawType": "int64",
         "type": "integer"
        },
        {
         "name": "Description",
         "rawType": "object",
         "type": "string"
        },
        {
         "name": "filename",
         "rawType": "object",
         "type": "string"
        }
       ],
       "conversionMethod": "pd.DataFrame",
       "ref": "9d7dca58-caff-4659-adc8-bcd2baccfb0a",
       "rows": [
        [
         "0",
         "10003",
         "AAS",
         "1010",
         "100",
         "Lecture",
         "4",
         "Robert Vinson, Naseemah Mohamed",
         "TuTh 12:30pm - 1:45pm",
         "Minor Hall 125",
         "Introduction to African-American and African Studies I",
         null,
         "Open",
         "0",
         "180",
         "0",
         "This introductory course surveys the histories of people of African descent in Africa, the Americas, and the Caribbean from approximately the Middle Ages to the 1880s. Emphases include the Atlantic slave trade and its complex relationship to Africa; the economic systems, cultures, and communities of Africans and African-Americans in the New World, in slavery and in freedom; the rise of anti-slavery movements; and the socio-economic systems that replaced slavery in the late 19th century.",
         "Fall_25_UVA_w_descr"
        ],
        [
         "1",
         "12774",
         "AAS",
         "1010",
         "101",
         "Discussion",
         "0",
         "To Be Announced",
         "We 6:00pm - 6:50pm",
         "New Cabell Hall 283",
         "Introduction to African-American and African Studies I",
         null,
         "Open",
         "0",
         "20",
         "0",
         "This introductory course surveys the histories of people of African descent in Africa, the Americas, and the Caribbean from approximately the Middle Ages to the 1880s. Emphases include the Atlantic slave trade and its complex relationship to Africa; the economic systems, cultures, and communities of Africans and African-Americans in the New World, in slavery and in freedom; the rise of anti-slavery movements; and the socio-economic systems that replaced slavery in the late 19th century.",
         "Fall_25_UVA_w_descr"
        ],
        [
         "2",
         "10006",
         "AAS",
         "1010",
         "102",
         "Discussion",
         "0",
         "To Be Announced",
         "We 5:00pm - 5:50pm",
         "New Cabell Hall 287",
         "Introduction to African-American and African Studies I",
         null,
         "Open",
         "0",
         "20",
         "0",
         "This introductory course surveys the histories of people of African descent in Africa, the Americas, and the Caribbean from approximately the Middle Ages to the 1880s. Emphases include the Atlantic slave trade and its complex relationship to Africa; the economic systems, cultures, and communities of Africans and African-Americans in the New World, in slavery and in freedom; the rise of anti-slavery movements; and the socio-economic systems that replaced slavery in the late 19th century.",
         "Fall_25_UVA_w_descr"
        ],
        [
         "3",
         "10004",
         "AAS",
         "1010",
         "103",
         "Discussion",
         "0",
         "To Be Announced",
         "Tu 7:00pm - 7:50pm",
         "New Cabell Hall 411",
         "Introduction to African-American and African Studies I",
         null,
         "Open",
         "0",
         "20",
         "0",
         "This introductory course surveys the histories of people of African descent in Africa, the Americas, and the Caribbean from approximately the Middle Ages to the 1880s. Emphases include the Atlantic slave trade and its complex relationship to Africa; the economic systems, cultures, and communities of Africans and African-Americans in the New World, in slavery and in freedom; the rise of anti-slavery movements; and the socio-economic systems that replaced slavery in the late 19th century.",
         "Fall_25_UVA_w_descr"
        ],
        [
         "4",
         "10005",
         "AAS",
         "1010",
         "104",
         "Discussion",
         "0",
         "To Be Announced",
         "Tu 8:00pm - 8:50pm",
         "New Cabell Hall 411",
         "Introduction to African-American and African Studies I",
         null,
         "Open",
         "0",
         "20",
         "0",
         "This introductory course surveys the histories of people of African descent in Africa, the Americas, and the Caribbean from approximately the Middle Ages to the 1880s. Emphases include the Atlantic slave trade and its complex relationship to Africa; the economic systems, cultures, and communities of Africans and African-Americans in the New World, in slavery and in freedom; the rise of anti-slavery movements; and the socio-economic systems that replaced slavery in the late 19th century.",
         "Fall_25_UVA_w_descr"
        ]
       ],
       "shape": {
        "columns": 17,
        "rows": 5
       }
      },
      "text/html": [
       "<div>\n",
       "<style scoped>\n",
       "    .dataframe tbody tr th:only-of-type {\n",
       "        vertical-align: middle;\n",
       "    }\n",
       "\n",
       "    .dataframe tbody tr th {\n",
       "        vertical-align: top;\n",
       "    }\n",
       "\n",
       "    .dataframe thead th {\n",
       "        text-align: right;\n",
       "    }\n",
       "</style>\n",
       "<table border=\"1\" class=\"dataframe\">\n",
       "  <thead>\n",
       "    <tr style=\"text-align: right;\">\n",
       "      <th></th>\n",
       "      <th>ClassNumber</th>\n",
       "      <th>Mnemonic</th>\n",
       "      <th>Number</th>\n",
       "      <th>Section</th>\n",
       "      <th>Type</th>\n",
       "      <th>Units</th>\n",
       "      <th>Instructor</th>\n",
       "      <th>Days</th>\n",
       "      <th>Room</th>\n",
       "      <th>Title</th>\n",
       "      <th>Topic</th>\n",
       "      <th>Status</th>\n",
       "      <th>Enrollment</th>\n",
       "      <th>EnrollmentLimit</th>\n",
       "      <th>Waitlist</th>\n",
       "      <th>Description</th>\n",
       "      <th>filename</th>\n",
       "    </tr>\n",
       "  </thead>\n",
       "  <tbody>\n",
       "    <tr>\n",
       "      <th>0</th>\n",
       "      <td>10003</td>\n",
       "      <td>AAS</td>\n",
       "      <td>1010</td>\n",
       "      <td>100</td>\n",
       "      <td>Lecture</td>\n",
       "      <td>4</td>\n",
       "      <td>Robert Vinson, Naseemah Mohamed</td>\n",
       "      <td>TuTh 12:30pm - 1:45pm</td>\n",
       "      <td>Minor Hall 125</td>\n",
       "      <td>Introduction to African-American and African S...</td>\n",
       "      <td>NaN</td>\n",
       "      <td>Open</td>\n",
       "      <td>0</td>\n",
       "      <td>180</td>\n",
       "      <td>0</td>\n",
       "      <td>This introductory course surveys the histories...</td>\n",
       "      <td>Fall_25_UVA_w_descr</td>\n",
       "    </tr>\n",
       "    <tr>\n",
       "      <th>1</th>\n",
       "      <td>12774</td>\n",
       "      <td>AAS</td>\n",
       "      <td>1010</td>\n",
       "      <td>101</td>\n",
       "      <td>Discussion</td>\n",
       "      <td>0</td>\n",
       "      <td>To Be Announced</td>\n",
       "      <td>We 6:00pm - 6:50pm</td>\n",
       "      <td>New Cabell Hall 283</td>\n",
       "      <td>Introduction to African-American and African S...</td>\n",
       "      <td>NaN</td>\n",
       "      <td>Open</td>\n",
       "      <td>0</td>\n",
       "      <td>20</td>\n",
       "      <td>0</td>\n",
       "      <td>This introductory course surveys the histories...</td>\n",
       "      <td>Fall_25_UVA_w_descr</td>\n",
       "    </tr>\n",
       "    <tr>\n",
       "      <th>2</th>\n",
       "      <td>10006</td>\n",
       "      <td>AAS</td>\n",
       "      <td>1010</td>\n",
       "      <td>102</td>\n",
       "      <td>Discussion</td>\n",
       "      <td>0</td>\n",
       "      <td>To Be Announced</td>\n",
       "      <td>We 5:00pm - 5:50pm</td>\n",
       "      <td>New Cabell Hall 287</td>\n",
       "      <td>Introduction to African-American and African S...</td>\n",
       "      <td>NaN</td>\n",
       "      <td>Open</td>\n",
       "      <td>0</td>\n",
       "      <td>20</td>\n",
       "      <td>0</td>\n",
       "      <td>This introductory course surveys the histories...</td>\n",
       "      <td>Fall_25_UVA_w_descr</td>\n",
       "    </tr>\n",
       "    <tr>\n",
       "      <th>3</th>\n",
       "      <td>10004</td>\n",
       "      <td>AAS</td>\n",
       "      <td>1010</td>\n",
       "      <td>103</td>\n",
       "      <td>Discussion</td>\n",
       "      <td>0</td>\n",
       "      <td>To Be Announced</td>\n",
       "      <td>Tu 7:00pm - 7:50pm</td>\n",
       "      <td>New Cabell Hall 411</td>\n",
       "      <td>Introduction to African-American and African S...</td>\n",
       "      <td>NaN</td>\n",
       "      <td>Open</td>\n",
       "      <td>0</td>\n",
       "      <td>20</td>\n",
       "      <td>0</td>\n",
       "      <td>This introductory course surveys the histories...</td>\n",
       "      <td>Fall_25_UVA_w_descr</td>\n",
       "    </tr>\n",
       "    <tr>\n",
       "      <th>4</th>\n",
       "      <td>10005</td>\n",
       "      <td>AAS</td>\n",
       "      <td>1010</td>\n",
       "      <td>104</td>\n",
       "      <td>Discussion</td>\n",
       "      <td>0</td>\n",
       "      <td>To Be Announced</td>\n",
       "      <td>Tu 8:00pm - 8:50pm</td>\n",
       "      <td>New Cabell Hall 411</td>\n",
       "      <td>Introduction to African-American and African S...</td>\n",
       "      <td>NaN</td>\n",
       "      <td>Open</td>\n",
       "      <td>0</td>\n",
       "      <td>20</td>\n",
       "      <td>0</td>\n",
       "      <td>This introductory course surveys the histories...</td>\n",
       "      <td>Fall_25_UVA_w_descr</td>\n",
       "    </tr>\n",
       "  </tbody>\n",
       "</table>\n",
       "</div>"
      ],
      "text/plain": [
       "   ClassNumber Mnemonic Number Section        Type Units  \\\n",
       "0        10003      AAS   1010     100     Lecture     4   \n",
       "1        12774      AAS   1010     101  Discussion     0   \n",
       "2        10006      AAS   1010     102  Discussion     0   \n",
       "3        10004      AAS   1010     103  Discussion     0   \n",
       "4        10005      AAS   1010     104  Discussion     0   \n",
       "\n",
       "                        Instructor                   Days  \\\n",
       "0  Robert Vinson, Naseemah Mohamed  TuTh 12:30pm - 1:45pm   \n",
       "1                  To Be Announced     We 6:00pm - 6:50pm   \n",
       "2                  To Be Announced     We 5:00pm - 5:50pm   \n",
       "3                  To Be Announced     Tu 7:00pm - 7:50pm   \n",
       "4                  To Be Announced     Tu 8:00pm - 8:50pm   \n",
       "\n",
       "                  Room                                              Title  \\\n",
       "0       Minor Hall 125  Introduction to African-American and African S...   \n",
       "1  New Cabell Hall 283  Introduction to African-American and African S...   \n",
       "2  New Cabell Hall 287  Introduction to African-American and African S...   \n",
       "3  New Cabell Hall 411  Introduction to African-American and African S...   \n",
       "4  New Cabell Hall 411  Introduction to African-American and African S...   \n",
       "\n",
       "  Topic Status  Enrollment  EnrollmentLimit  Waitlist  \\\n",
       "0   NaN   Open           0              180         0   \n",
       "1   NaN   Open           0               20         0   \n",
       "2   NaN   Open           0               20         0   \n",
       "3   NaN   Open           0               20         0   \n",
       "4   NaN   Open           0               20         0   \n",
       "\n",
       "                                         Description             filename  \n",
       "0  This introductory course surveys the histories...  Fall_25_UVA_w_descr  \n",
       "1  This introductory course surveys the histories...  Fall_25_UVA_w_descr  \n",
       "2  This introductory course surveys the histories...  Fall_25_UVA_w_descr  \n",
       "3  This introductory course surveys the histories...  Fall_25_UVA_w_descr  \n",
       "4  This introductory course surveys the histories...  Fall_25_UVA_w_descr  "
      ]
     },
     "execution_count": 3,
     "metadata": {},
     "output_type": "execute_result"
    }
   ],
   "source": [
    "import glob\n",
    "csv_files = glob.glob(\"./Lous_List_Database/*.csv\") # Get all files within folder\n",
    "courses = pd.concat(\n",
    "    (pd.read_csv(f).assign(filename=os.path.basename(f)[:-4]) for f in csv_files),\n",
    "    ignore_index=True\n",
    ")\n",
    "\n",
    "courses.head()"
   ]
  },
  {
   "cell_type": "markdown",
   "metadata": {},
   "source": [
    "# Store data in ChromaDB vectorized database"
   ]
  },
  {
   "cell_type": "markdown",
   "metadata": {
    "tags": []
   },
   "source": [
    "### Creating and Testing Embedding"
   ]
  },
  {
   "cell_type": "code",
   "execution_count": 4,
   "metadata": {
    "tags": []
   },
   "outputs": [
    {
     "name": "stdout",
     "output_type": "stream",
     "text": [
      "Embedding a test sentence: [0.042972832918167114, 0.09663482010364532, -0.002129172207787633, 0.07826829701662064, -0.00641746586188674]\n"
     ]
    }
   ],
   "source": [
    "from llama_index.embeddings.huggingface import HuggingFaceEmbedding\n",
    "from llama_index.core import Settings\n",
    "\n",
    "embed_model = HuggingFaceEmbedding(model_name = \"all-MiniLM-L6-v2\") # Load local embedding model\n",
    "Settings.embed_model = embed_model\n",
    "print(\"Embedding a test sentence:\", Settings.embed_model.get_text_embedding(\"test sentence\")[:5])"
   ]
  },
  {
   "cell_type": "markdown",
   "metadata": {},
   "source": [
    "### Creating ChromaDB and Saving Documents"
   ]
  },
  {
   "cell_type": "markdown",
   "metadata": {},
   "source": [
    "#### 1. Majors Index"
   ]
  },
  {
   "cell_type": "code",
   "execution_count": 6,
   "metadata": {
    "tags": []
   },
   "outputs": [],
   "source": [
    "from llama_index.core.schema import Document\n",
    "from llama_index.core import VectorStoreIndex\n",
    "from llama_index.vector_stores.chroma import ChromaVectorStore\n",
    "\n",
    "# Convert each row to a LlamaIndex document\n",
    "documents = [\n",
    "    Document(\n",
    "        text = row[\"Text\"],\n",
    "        metadata = {\"Major\": row[\"Major\"], \"School\": row[\"School\"]}\n",
    "    )\n",
    "    for _, row in majors_meta.iterrows()\n",
    "]\n",
    "\n",
    "# 1. Initialize Chroma vector store for majors (persistent DB stored in ./chroma_db folder)\n",
    "chroma_store = ChromaVectorStore.from_params(\n",
    "    collection_name = \"majors_collection\",\n",
    "    persist_dir = \"./chroma_db\"  # local directory for vector store\n",
    ")\n",
    "\n",
    "# 2. Create the majors index — this will auto-chunk + auto-embed\n",
    "index = VectorStoreIndex.from_documents(documents, vector_store = chroma_store)\n",
    "index.storage_context.persist() # 3. Persist to disk"
   ]
  },
  {
   "cell_type": "markdown",
   "metadata": {},
   "source": [
    "#### 2. Courses Index"
   ]
  },
  {
   "cell_type": "code",
   "execution_count": 7,
   "metadata": {
    "tags": []
   },
   "outputs": [],
   "source": [
    "# Convert each row to a LlamaIndex document\n",
    "course_docs = []\n",
    "for _, row in courses.iterrows():\n",
    "    course_text = f\"\"\"Course ID: {row['Mnemonic']+str(row['Number'])}\n",
    "        Title: {row['Title']}\n",
    "        Credits: {row['Units']},\n",
    "        Instructor: {row['Instructor']},\n",
    "        Schedule: {row['Days']},\n",
    "        Period: {row['filename']}\"\"\"\n",
    "    course_docs.append(Document(text=course_text, metadata=row.to_dict()))\n",
    "    \n",
    "# 1. Initialize Chroma vector store for courses\n",
    "courses_chroma_store = ChromaVectorStore.from_params(\n",
    "    collection_name = \"courses_collection\", \n",
    "    persist_dir = \"./chroma_db\")\n",
    "\n",
    "# 2. Create the courses index\n",
    "courses_index = VectorStoreIndex.from_documents(course_docs, vector_store = courses_chroma_store)\n",
    "courses_index.storage_context.persist() # 3. Persist to disk"
   ]
  },
  {
   "cell_type": "markdown",
   "metadata": {},
   "source": [
    "# Retrieval"
   ]
  },
  {
   "cell_type": "code",
   "execution_count": 9,
   "metadata": {
    "tags": []
   },
   "outputs": [
    {
     "name": "stdout",
     "output_type": "stream",
     "text": [
      "\n",
      "📚 Result 1:\n",
      "{'Major': 'Computer Science, B.S.', 'School': 'School of Engineering and Applied Science'}\n",
      "Some students with programming experience may wish to take the place-out test, which satisfies the requirement but does not award degree credit.  Please contact the department for more information about place-out tests. Choose one of the following: CS 1110 - Introduction to Programming Credits:          3 CS 1111 - Introduction to Programming Credits:          3 CS 1112 - Introduction to Programming Credits:          3 CS 1113 - Introduction to Programming Credits:          3 Foundation Courses \n",
      "\n",
      "📚 Result 2:\n",
      "{'Major': 'Computer Science, B.A.', 'School': 'College of Arts and Sciences'}\n",
      "Computer Science, B.A. Print-Friendly Page (opens a new window) Return to: College of Arts & Sciences: Degree Programs The BA degree program in Computer Science provides students with a solid foundation in computer science theory and practice. An important goal of the program is give students the ability to apply computing to other disciplines in the arts and sciences (e.g., life and physical sciences, mathematics, social sciences, visual and performing arts). This idea of studying computer scie\n"
     ]
    }
   ],
   "source": [
    "from llama_index.core import StorageContext, load_index_from_storage\n",
    "\n",
    "# 1. Reload the Index from Storage\n",
    "#storage_context = StorageContext.from_defaults(persist_dir = \"./chroma_db\")\n",
    "#index = load_index_from_storage(storage_context)\n",
    "\n",
    "# 2. Set Up a Query Engine (Retriever + LLM)\n",
    "retriever = index.as_retriever(similarity_top_k = 2, embed_model = embed_model)\n",
    "\n",
    "query = \"core courses for computer science major\"\n",
    "nodes = retriever.retrieve(query)\n",
    "\n",
    "for i, node in enumerate(nodes, 1):\n",
    "    print(f\"\\n📚 Result {i}:\")\n",
    "    print(node.metadata)\n",
    "    print(node.text[:500])"
   ]
  },
  {
   "cell_type": "code",
   "execution_count": 10,
   "metadata": {
    "tags": []
   },
   "outputs": [
    {
     "name": "stdout",
     "output_type": "stream",
     "text": [
      "\n",
      "📚 Result 1:\n",
      "{'ClassNumber': 12120, 'Mnemonic': 'STAT', 'Number': 1601, 'Section': '001', 'Type': 'Lecture', 'Units': '3', 'Instructor': 'Taylor Brown', 'Days': 'MoWe 2:00pm - 3:15pm', 'Room': 'Ridley Hall G008', 'Title': 'Introduction to Data Science with R', 'Topic': nan, 'Status': 'Closed', 'Enrollment': 93, 'EnrollmentLimit': 90, 'Waitlist': 0, 'Description': nan, 'filename': 'Spring_2023'}\n",
      "Course ID: STAT1601\n",
      "        Title: Introduction to Data Science with R\n",
      "        Credits: 3,\n",
      "        Instructor: Taylor Brown,\n",
      "        Schedule: MoWe 2:00pm - 3:15pm,\n",
      "        Period: Spring_2023\n",
      "\n",
      "📚 Result 2:\n",
      "{'ClassNumber': 12121, 'Mnemonic': 'STAT', 'Number': 1601, 'Section': '002', 'Type': 'Lecture', 'Units': '3', 'Instructor': 'Taylor Brown', 'Days': 'MoWe 3:30pm - 4:45pm', 'Room': 'Ridley Hall G008', 'Title': 'Introduction to Data Science with R', 'Topic': nan, 'Status': 'Closed', 'Enrollment': 90, 'EnrollmentLimit': 90, 'Waitlist': 0, 'Description': nan, 'filename': 'Spring_2023'}\n",
      "Course ID: STAT1601\n",
      "        Title: Introduction to Data Science with R\n",
      "        Credits: 3,\n",
      "        Instructor: Taylor Brown,\n",
      "        Schedule: MoWe 3:30pm - 4:45pm,\n",
      "        Period: Spring_2023\n",
      "\n",
      "📚 Result 3:\n",
      "{'ClassNumber': 19834, 'Mnemonic': 'STAT', 'Number': 1601, 'Section': '004', 'Type': 'Lecture', 'Units': '3', 'Instructor': 'Prince Afriyie', 'Days': 'TuTh 12:30pm - 1:45pm', 'Room': 'Clark Hall 107', 'Title': 'Introduction to Data Science with R', 'Topic': nan, 'Status': 'Closed', 'Enrollment': 140, 'EnrollmentLimit': 140, 'Waitlist': 0, 'Description': nan, 'filename': 'Spring_2023'}\n",
      "Course ID: STAT1601\n",
      "        Title: Introduction to Data Science with R\n",
      "        Credits: 3,\n",
      "        Instructor: Prince Afriyie,\n",
      "        Schedule: TuTh 12:30pm - 1:45pm,\n",
      "        Period: Spring_2023\n"
     ]
    }
   ],
   "source": [
    "# Querying the courses index\n",
    "nodes = courses_index.as_retriever(similarity_top_k=3).retrieve(\"Data Science Spring 2025\")\n",
    "\n",
    "for i, node in enumerate(nodes, 1):\n",
    "    print(f\"\\n📚 Result {i}:\")\n",
    "    print(node.metadata)\n",
    "    print(node.text[:500])"
   ]
  },
  {
   "cell_type": "markdown",
   "metadata": {},
   "source": [
    "# Retrieve relevant information from both indices"
   ]
  },
  {
   "cell_type": "code",
   "execution_count": 11,
   "metadata": {
    "tags": []
   },
   "outputs": [],
   "source": [
    "# Retrieve major requirements\n",
    "major_retriever = index.as_retriever(similarity_top_k=1)\n",
    "major_info = major_retriever.retrieve(\"Biology Major\")[0].get_content()\n",
    "\n",
    "# Retrieve available courses (you can filter this by Spring 2025)\n",
    "course_retriever = courses_index.as_retriever(similarity_top_k=20)\n",
    "available_courses = course_retriever.retrieve(\"Biology Fall 2025\")\n",
    "available_course_texts = \"\\n\\n\".join([node.get_content() for node in available_courses])"
   ]
  },
  {
   "cell_type": "markdown",
   "metadata": {},
   "source": [
    "# Generation"
   ]
  },
  {
   "cell_type": "code",
   "execution_count": 12,
   "metadata": {},
   "outputs": [],
   "source": [
    "from llama_index.llms.huggingface import HuggingFaceLLM\n"
   ]
  },
  {
   "cell_type": "code",
   "execution_count": 13,
   "metadata": {},
   "outputs": [],
   "source": [
    "# Set system prompt\n",
    "SYSTEM_PROMPT = \"\"\"You are a helpful academic advisor at UVA. Given the student's major requirements and available courses, generate a schedule for Spring 2025. \n",
    "- Include only courses relevant to their major\n",
    "- Avoid time conflicts\n",
    "- Aim for 12 to 15 credits\n",
    "- Each bullet should include: Course ID, Title, Days & Time, and Instructor.\n",
    "- Include course title, schedule, and professor.\n",
    "- Only use courses from the list provided below.\n",
    "\n",
    "Format:\n",
    "\n",
    "* <Course ID>: <Title> | <Schedule> | <Instructor>\"\"\""
   ]
  },
  {
   "cell_type": "code",
   "execution_count": 14,
   "metadata": {
    "tags": []
   },
   "outputs": [
    {
     "data": {
      "application/vnd.jupyter.widget-view+json": {
       "model_id": "f72038e392e9478390527407dd77b489",
       "version_major": 2,
       "version_minor": 0
      },
      "text/plain": [
       "Loading checkpoint shards:   0%|          | 0/2 [00:00<?, ?it/s]"
      ]
     },
     "metadata": {},
     "output_type": "display_data"
    }
   ],
   "source": [
    "load_dotenv() # Load environment variables from .env file\n",
    "token = os.getenv(\"TOKEN\") # Retrieve the token\n",
    "\n",
    "# Log into huggingface\n",
    "login(token = token)\n",
    "\n",
    "# 1. Load model\n",
    "llm = HuggingFaceLLM(model_name = \"mistralai/Mistral-7B-Instruct-v0.1\",\n",
    "                     tokenizer_name = \"mistralai/Mistral-7B-Instruct-v0.1\",\n",
    "                     device_map = \"auto\",       # uses GPU if available, else CPU\n",
    "                     max_new_tokens = 512,  # or even 1024\n",
    "                     model_kwargs = {\n",
    "                         \"offload_folder\": \"./offload\",  # If needed for disk-based offloading\n",
    "                         \"torch_dtype\": torch.float16,\n",
    "                         \"trust_remote_code\": True\n",
    "                     },\n",
    "                     generate_kwargs = {\n",
    "                         \"temperature\": 0.1\n",
    "                     },\n",
    "                     system_prompt = SYSTEM_PROMPT)"
   ]
  },
  {
   "cell_type": "code",
   "execution_count": 15,
   "metadata": {
    "tags": []
   },
   "outputs": [
    {
     "name": "stderr",
     "output_type": "stream",
     "text": [
      "/Users/rfell/miniconda3/lib/python3.12/site-packages/transformers/generation/configuration_utils.py:628: UserWarning: `do_sample` is set to `False`. However, `temperature` is set to `0.1` -- this flag is only used in sample-based generation modes. You should set `do_sample=True` or unset `temperature`.\n",
      "  warnings.warn(\n",
      "Setting `pad_token_id` to `eos_token_id`:2 for open-end generation.\n"
     ]
    },
    {
     "name": "stdout",
     "output_type": "stream",
     "text": [
      "\n",
      "* <Course ID>: <Title> | <Schedule> | <Instructor>\n",
      "\n",
      "Course ID: BIOL1040\n",
      "        Title: The DNA Revolution in Science and Society\n",
      "        Credits: 3,\n",
      "        Instructor: Douglas Taylor,\n",
      "        Schedule: TuTh 3:30pm - 4:50pm,\n",
      "        Period: Fall_2024\n",
      "\n",
      "Course ID: BIOL2100\n",
      "        Title: Introduction to Biology with Laboratory: Cell Biology & Genetics\n",
      "        Credits: 0,\n",
      "        Instructor: David Kittlesen,\n",
      "        Schedule: We 2:00pm - 4:30pm,\n",
      "        Period: Fall_2025\n",
      "\n",
      "Course ID: BIOL2200\n",
      "        Title: Introduction to Biology w/Laboratory: Organismal & Evolutionary Biology\n",
      "        Credits: 0,\n",
      "        Instructor: Jessamyn Manson,\n",
      "        Schedule: MoWeFr 10:00am - 10:50am,\n",
      "        Period: Fall_2025\n",
      "\n",
      "Course ID: BIOL4610\n",
      "        Title: Molecular Evolution: Diversity, Mutants, and the Biological Myth of Race\n",
      "        Credits: 3,\n",
      "        Instructor: Alan Bergland,\n",
      "        Schedule: TuTh 11:00am - 12:15pm,\n",
      "        Period: Spring_2022\n",
      "\n",
      "Course ID: BIOL3020\n",
      "        Title: Evolution and Ecology\n",
      "        Credits: 0,\n",
      "        Instructor: Robert Cox, Edmund Brodie,\n",
      "        Schedule: We 6:15pm - 8:45pm,\n",
      "        Period: Fall_25_UVA_w_descr\n",
      "\n",
      "Course ID: BIOL4559\n",
      "        Title: New Course in Biology\n",
      "        Credits: 0,\n",
      "        Instructor: Nicholas Landry,\n",
      "        Schedule: Tu 3:30pm - 4:45pm,\n",
      "        Period: Fall_2025\n",
      "\n",
      "Course ID: BIOL2100\n",
      "        Title\n"
     ]
    }
   ],
   "source": [
    "# Set system prompt\n",
    "SYSTEM_PROMPT = \"\"\"You are a helpful academic advisor at UVA. Given the student's major requirements and available courses, generate a schedule for Spring 2025. \n",
    "- Include only courses relevant to their major\n",
    "- Avoid time conflicts\n",
    "- Aim for 12 to 15 credits\n",
    "- Each bullet should include: Course ID, Title, Days & Time, and Instructor.\n",
    "- Include course title, schedule, and professor.\n",
    "- Only use courses from the list provided below.\n",
    "\n",
    "Format:\n",
    "\n",
    "* <Course ID>: <Title> | <Schedule> | <Instructor>\"\"\"\n",
    "\n",
    "# Combine system prompt with information retrieved from previous queries\n",
    "full_prompt = f\"\"\"{SYSTEM_PROMPT}\n",
    "\n",
    "Major Requirements:\n",
    "{major_info}\n",
    "\n",
    "Available Courses:\n",
    "{available_course_texts}\n",
    "\n",
    "Generate the schedule below:\n",
    "\"\"\"\n",
    "\n",
    "response = llm.complete(full_prompt)\n",
    "print(response.text)"
   ]
  },
  {
   "cell_type": "raw",
   "metadata": {},
   "source": [
    "* <Course ID>: <Title> | <Schedule> | <Instructor>\n",
    "\n",
    "Spring 2025 Schedule:\n",
    "\n",
    "* DS5111: Streamlining Data Science with Software and Automation Skills | Tu 8:30pm - 9:30pm | Jonathan Kropko\n",
    "* DS3025: Mathematics for Data Science | TuTh 11:00am - 12:15pm | Aaron Abrams\n",
    "* DS1002: Programming for Data Science | TuTh 8:00am - 9:15am | Mai Dahshan\n",
    "* STAT1601: Introduction to Data Science with R | TuTh 2:00pm - 3:15pm | Kristen Roland\n",
    "\n",
    "Total Credits: 12\n",
    "\n",
    "Note: The schedule is subject to change based on instructor availability and course availability. It is recommended to check the SIS for the most up-to-date schedule."
   ]
  },
  {
   "cell_type": "markdown",
   "metadata": {},
   "source": [
    "### Function to generate repsonse"
   ]
  },
  {
   "cell_type": "code",
   "execution_count": 19,
   "metadata": {
    "tags": []
   },
   "outputs": [
    {
     "name": "stderr",
     "output_type": "stream",
     "text": [
      "/Users/rfell/miniconda3/lib/python3.12/site-packages/transformers/generation/configuration_utils.py:628: UserWarning: `do_sample` is set to `False`. However, `temperature` is set to `0.1` -- this flag is only used in sample-based generation modes. You should set `do_sample=True` or unset `temperature`.\n",
      "  warnings.warn(\n",
      "Setting `pad_token_id` to `eos_token_id`:2 for open-end generation.\n"
     ]
    },
    {
     "name": "stdout",
     "output_type": "stream",
     "text": [
      "\n",
      "    * BIOL2200: Introduction to Biology w/Laboratory: Organismal & Evolutionary Biology | Tu 2:00pm - 2:50pm,\n",
      "    * BIOL4840: Capstone for the Bachelor of Science in Biology | Tu 2:00pm - 2:50pm,\n",
      "    * BIOL2200: Introduction to Biology w/Laboratory: Organismal & Evolutionary Biology | Tu 2:00pm - 2:50pm,\n",
      "    * BIOL2200: Introduction to Biology w/Laboratory: Organismal & Evolutionary Biology | Tu 2:00pm - 2:50pm,\n",
      "    * BIOL2200: Introduction to Biology w/Laboratory: Organismal & Evolutionary Biology | Tu 2:00pm - 2:50pm,\n",
      "    * BIOL2200: Introduction to Biology w/Laboratory: Organismal & Evolutionary Biology | Tu 2:00pm - 2:50pm,\n",
      "    * BIOL2200: Introduction to Biology w/Laboratory: Organismal & Evolutionary Biology | Tu 2:00pm - 2:50pm,\n",
      "    * BIOL2200: Introduction to Biology w/Laboratory: Organismal & Evolutionary Biology | Tu 2:00pm - 2:50pm,\n",
      "    * BIOL2200: Introduction to Biology w/Laboratory: Organismal & Evolutionary Biology | Tu 2:00pm - 2:50pm,\n",
      "    * BIOL2200: Introduction to Biology w/Laboratory: Organismal & Evolutionary Biology | Tu 2:00pm - 2:50pm,\n",
      "    * BIOL2200: Introduction to Biology w/Laboratory: Organismal & Evolutionary Biology | Tu 2:00pm - 2:50pm,\n",
      "    * BIOL2200: Introduction to Biology\n"
     ]
    }
   ],
   "source": [
    "def generate_response(query, k_s = 20):\n",
    "    # Retrieve context on the major\n",
    "    major_retriever = index.as_retriever(similarity_top_k=1)\n",
    "    major_info = major_retriever.retrieve(query)[0].get_content()\n",
    "    \n",
    "    # Retrieve available courses\n",
    "    course_retriever = courses_index.as_retriever(similarity_top_k=20)\n",
    "    available_courses = course_retriever.retrieve(query)\n",
    "    available_course_texts = \"\\n\\n\".join([node.get_content() for node in available_courses])\n",
    "\n",
    "    # Construct full prompt with retrieved information\n",
    "    full_prompt = f\"\"\"{SYSTEM_PROMPT}\n",
    "\n",
    "    Major Requirements:\n",
    "    {major_info}\n",
    "\n",
    "    Available Courses:\n",
    "    {available_course_texts}\n",
    "\n",
    "    Generate the schedule below:\n",
    "    \"\"\"\n",
    "    \n",
    "    response = llm.complete(full_prompt) # prompt response\n",
    "    return response.text\n",
    "\n",
    "query = \"second year biology major for fall 2025\"\n",
    "print(generate_response(query))"
   ]
  },
  {
   "cell_type": "markdown",
   "metadata": {},
   "source": [
    "### Function to generate response, splits reponse to 2 parts, for better document retrieval "
   ]
  },
  {
   "cell_type": "code",
   "execution_count": 102,
   "metadata": {},
   "outputs": [],
   "source": [
    "import re\n",
    "\n",
    "def generate_response(query, k_s=20):\n",
    "    # --- STEP 1: Extract major and year ---\n",
    "    major_query = \"\"\n",
    "    course_query = \"\"\n",
    "\n",
    "    # Match something like: \"second year biology major\"\n",
    "    major_match = re.search(\n",
    "    r\"(first|second|third|fourth)?\\s*year\\s+([a-zA-Z\\s&]+?)\\s+(major|student)\",\n",
    "    query,\n",
    "    re.IGNORECASE\n",
    "    )\n",
    "\n",
    "    if major_match:\n",
    "        year = major_match.group(1) or \"\"\n",
    "        major_name = major_match.group(2).strip()\n",
    "        full_major_phrase = f\"{year} year {major_name} major\".strip() if year else f\"{major_name} major\"\n",
    "        major_query = re.sub(r'\\s+', ' ', full_major_phrase)  # normalize spacing\n",
    "    else:\n",
    "        major_query = \"\"  # or fallback to query if needed\n",
    "\n",
    "    # extract semester info \n",
    "    term_match = re.search(r\"(fall|spring|summer|winter)\\s+\\d{4}\", query, re.IGNORECASE)\n",
    "    term_phrase = term_match.group(0) if term_match else \"\"\n",
    "\n",
    "    # make queries\n",
    "    if major_name:\n",
    "        course_query = f\"{term_phrase} {major_name} courses\"\n",
    "    else:\n",
    "        course_query = query\n",
    "\n",
    "    #retrieval majors\n",
    "    major_retriever = index.as_retriever(similarity_top_k=3)\n",
    "    major_info = major_retriever.retrieve(major_query)[0].get_content()\n",
    "\n",
    "    # retrieve courses\n",
    "    course_retriever = courses_index.as_retriever(similarity_top_k=k_s)\n",
    "    available_courses = course_retriever.retrieve(course_query)\n",
    "    available_course_texts = \"\\n\\n\".join([node.get_content() for node in available_courses])\n",
    "\n",
    "    # prompt llm\n",
    "    full_prompt = f\"\"\"{SYSTEM_PROMPT}\n",
    "\n",
    "Major Requirements:\n",
    "{major_info}\n",
    "\n",
    "Available Courses:\n",
    "{available_course_texts}\n",
    "\n",
    "User Query:\n",
    "{query}\n",
    "\n",
    "Generate the schedule below:\n",
    "\"\"\"\n",
    "\n",
    "    response = llm.complete(full_prompt)\n",
    "    return response.text\n"
   ]
  },
  {
   "cell_type": "code",
   "execution_count": 64,
   "metadata": {},
   "outputs": [
    {
     "name": "stderr",
     "output_type": "stream",
     "text": [
      "/Users/rfell/miniconda3/lib/python3.12/site-packages/transformers/generation/configuration_utils.py:628: UserWarning: `do_sample` is set to `False`. However, `temperature` is set to `0.1` -- this flag is only used in sample-based generation modes. You should set `do_sample=True` or unset `temperature`.\n",
      "  warnings.warn(\n",
      "Setting `pad_token_id` to `eos_token_id`:2 for open-end generation.\n"
     ]
    },
    {
     "data": {
      "text/plain": [
       "'\\n* <Course ID>: <Title> | <Schedule> | <Instructor>\\n\\nCourse ID: BIOL4840\\n        Title: Capstone for the Bachelor of Science in Biology\\n        Credits: 1,\\n        Instructor: Jessamyn Manson,\\n        Schedule: Tu 2:00pm - 2:50pm,\\n        Period: Fall_25_UVA_w_descr\\n\\nCourse ID: STAT2020\\n        Title: Statistics for Biologists\\n        Credits: 0,\\n        Instructor: Maria Ferrara,\\n        Schedule: Th 4:00pm - 4:50pm,\\n        Period: Fall_25_UVA_w_descr\\n\\nCourse ID: STAT2020\\n        Title: Statistics for Biologists\\n        Credits: 0,\\n        Instructor: Maria Ferrara,\\n        Schedule: Th 5:00pm - 5:50pm,\\n        Period: Fall_25_UVA_w_descr\\n\\nCourse ID: STAT2020\\n        Title: Statistics for Biologists\\n        Credits: 4,\\n        Instructor: Maria Ferrara,\\n        Schedule: MoWe 3:30pm - 4:45pm,\\n        Period: Fall_25_UVA_w_descr\\n\\nCourse ID: ENWR1510\\n        Title: Writing and Critical Inquiry\\n        Credits: 3,\\n        Instructor: Rhiannon Goad,\\n        Schedule: MoWeFr 9:00am - 9:50am,\\n        Period: Fall_25_UVA_w_descr\\n\\nCourse ID: PHYS2010\\n        Title: Principles of Physics 1 for Pre-Health Students\\n        Credits: 3,\\n        Instructor: Rebecca Grouchy,\\n        Schedule: TuTh 9:30am - 10:45am,\\n        Period: Fall_25_UVA_w_descr\\n\\nCourse ID: ENWR1510\\n        Title: Writing and Critical Inquiry\\n        Credits: '"
      ]
     },
     "execution_count": 64,
     "metadata": {},
     "output_type": "execute_result"
    }
   ],
   "source": [
    "generate_response(\"Can you make a semeter schedule, for a second year biology major for fall 2025?\")"
   ]
  },
  {
   "cell_type": "code",
   "execution_count": 18,
   "metadata": {},
   "outputs": [
    {
     "name": "stdout",
     "output_type": "stream",
     "text": [
      "\n",
      "* <Course ID>: <Title> | <Schedule> | <Instructor>\n",
      "\n",
      "Course ID: BIOL4840\n",
      "        Title: Capstone for the Bachelor of Science in Biology\n",
      "        Credits: 1,\n",
      "        Instructor: Jessamyn Manson,\n",
      "        Schedule: Tu 2:00pm - 2:50pm,\n",
      "        Period: Fall_25_UVA_w_descr\n",
      "\n",
      "Course ID: STAT2020\n",
      "        Title: Statistics for Biologists\n",
      "        Credits: 0,\n",
      "        Instructor: Maria Ferrara,\n",
      "        Schedule: Th 4:00pm - 4:50pm,\n",
      "        Period: Fall_25_UVA_w_descr\n",
      "\n",
      "Course ID: STAT2020\n",
      "        Title: Statistics for Biologists\n",
      "        Credits: 0,\n",
      "        Instructor: Maria Ferrara,\n",
      "        Schedule: Th 5:00pm - 5:50pm,\n",
      "        Period: Fall_25_UVA_w_descr\n",
      "\n",
      "Course ID: STAT2020\n",
      "        Title: Statistics for Biologists\n",
      "        Credits: 4,\n",
      "        Instructor: Maria Ferrara,\n",
      "        Schedule: MoWe 3:30pm - 4:45pm,\n",
      "        Period: Fall_25_UVA_w_descr\n",
      "\n",
      "Course ID: ENWR1510\n",
      "        Title: Writing and Critical Inquiry\n",
      "        Credits: 3,\n",
      "        Instructor: Rhiannon Goad,\n",
      "        Schedule: MoWeFr 9:00am - 9:50am,\n",
      "        Period: Fall_25_UVA_w_descr\n",
      "\n",
      "Course ID: PHYS2010\n",
      "        Title: Principles of Physics 1 for Pre-Health Students\n",
      "        Credits: 3,\n",
      "        Instructor: Rebecca Grouchy,\n",
      "        Schedule: TuTh 9:30am - 10:45am,\n",
      "        Period: Fall_25_UVA_w_descr\n",
      "\n",
      "Course ID: ENWR1510\n",
      "        Title: Writing and Critical Inquiry\n",
      "        Credits: \n"
     ]
    }
   ],
   "source": [
    "print('\\n* <Course ID>: <Title> | <Schedule> | <Instructor>\\n\\nCourse ID: BIOL4840\\n        Title: Capstone for the Bachelor of Science in Biology\\n        Credits: 1,\\n        Instructor: Jessamyn Manson,\\n        Schedule: Tu 2:00pm - 2:50pm,\\n        Period: Fall_25_UVA_w_descr\\n\\nCourse ID: STAT2020\\n        Title: Statistics for Biologists\\n        Credits: 0,\\n        Instructor: Maria Ferrara,\\n        Schedule: Th 4:00pm - 4:50pm,\\n        Period: Fall_25_UVA_w_descr\\n\\nCourse ID: STAT2020\\n        Title: Statistics for Biologists\\n        Credits: 0,\\n        Instructor: Maria Ferrara,\\n        Schedule: Th 5:00pm - 5:50pm,\\n        Period: Fall_25_UVA_w_descr\\n\\nCourse ID: STAT2020\\n        Title: Statistics for Biologists\\n        Credits: 4,\\n        Instructor: Maria Ferrara,\\n        Schedule: MoWe 3:30pm - 4:45pm,\\n        Period: Fall_25_UVA_w_descr\\n\\nCourse ID: ENWR1510\\n        Title: Writing and Critical Inquiry\\n        Credits: 3,\\n        Instructor: Rhiannon Goad,\\n        Schedule: MoWeFr 9:00am - 9:50am,\\n        Period: Fall_25_UVA_w_descr\\n\\nCourse ID: PHYS2010\\n        Title: Principles of Physics 1 for Pre-Health Students\\n        Credits: 3,\\n        Instructor: Rebecca Grouchy,\\n        Schedule: TuTh 9:30am - 10:45am,\\n        Period: Fall_25_UVA_w_descr\\n\\nCourse ID: ENWR1510\\n        Title: Writing and Critical Inquiry\\n        Credits: ')"
   ]
  },
  {
   "cell_type": "markdown",
   "metadata": {},
   "source": [
    "# Tests"
   ]
  },
  {
   "cell_type": "markdown",
   "metadata": {},
   "source": [
    "## Prompt Options\n",
    "Can you make a semester schedule for a second year biomedical engineering student for fall 2025?\n",
    "\n",
    "Can you make a semester schedule or a fourth year biomedical engineering student for fall 2025?\n",
    "\n",
    "Can you make a semester schedule for a first year economics student for fall 2025?\n",
    "\n",
    "Can you make a semester schedule for a third year economics student for fall 2025?\n",
    "\n",
    "Can you make a semester schedule for a third year architecture student for fall 2025?"
   ]
  },
  {
   "cell_type": "code",
   "execution_count": 103,
   "metadata": {},
   "outputs": [
    {
     "name": "stderr",
     "output_type": "stream",
     "text": [
      "/Users/rfell/miniconda3/lib/python3.12/site-packages/transformers/generation/configuration_utils.py:628: UserWarning: `do_sample` is set to `False`. However, `temperature` is set to `0.1` -- this flag is only used in sample-based generation modes. You should set `do_sample=True` or unset `temperature`.\n",
      "  warnings.warn(\n",
      "Setting `pad_token_id` to `eos_token_id`:2 for open-end generation.\n"
     ]
    },
    {
     "data": {
      "text/plain": [
       "'\\n* <Course ID>: <Title> | <Schedule> | <Instructor>\\n\\nCourse ID: BME4550\\n        Title: Special Topics in Biomedical Engineering\\n        Credits: 3,\\n        Instructor: David Chen,\\n        Schedule: Fr 8:30am - 11:30am,\\n        Period: Fall_2025\\n\\nCourse ID: BME6550\\n        Title: Special Topics in Biomedical Engineering\\n        Credits: 3,\\n        Instructor: Nikki Hastings,\\n        Schedule: TuTh 8:00am - 10:45am,\\n        Period: Fall_2025\\n\\nCourse ID: BME6056\\n        Title: Going Pro, Professional Development in Biomedical Engineering\\n        Credits: 1 - 2,\\n        Instructor: Kimberly Kelly,\\n        Schedule: Mo 11:00am - 12:00pm,\\n        Period: Spring_2025\\n\\nCourse ID: BME6550\\n        Title: Special Topics in Biomedical Engineering\\n        Credits: 3,\\n        Instructor: Frederick Epstein, John Hossack,\\n        Schedule: MoWe 2:00pm - 3:15pm,\\n        Period: Spring_2025\\n\\nCourse ID: BME6550\\n        Title: Special Topics in Biomedical Engineering\\n        Credits: 3,\\n        Instructor: Robert Perry,\\n        Schedule: TuTh 4:30pm - 5:45pm,\\n        Period: Spring_2025\\n\\nCourse ID: BME6056\\n        Title: Going Pro, Professional Development in Biomedical Engineering\\n        Credits: 1 - 2,\\n        Instructor: Robert Perry,\\n        Schedule: We 3:30pm - 4:45pm,\\n        Period: Fall_2025\\n\\nCourse ID: BME6550\\n        Title: Special Topics in Biomedical Engineering\\n        Credits: 3,\\n        Instructor: Steven Caliari,\\n       '"
      ]
     },
     "execution_count": 103,
     "metadata": {},
     "output_type": "execute_result"
    }
   ],
   "source": [
    "generate_response(\"Can you make a semester schedule for a second year biomedical engineering student for fall 2025?\", k_s=20)"
   ]
  },
  {
   "cell_type": "code",
   "execution_count": 104,
   "metadata": {},
   "outputs": [
    {
     "name": "stdout",
     "output_type": "stream",
     "text": [
      "\n",
      "* <Course ID>: <Title> | <Schedule> | <Instructor>\n",
      "\n",
      "Course ID: BME4550\n",
      "        Title: Special Topics in Biomedical Engineering\n",
      "        Credits: 3,\n",
      "        Instructor: David Chen,\n",
      "        Schedule: Fr 8:30am - 11:30am,\n",
      "        Period: Fall_2025\n",
      "\n",
      "Course ID: BME6550\n",
      "        Title: Special Topics in Biomedical Engineering\n",
      "        Credits: 3,\n",
      "        Instructor: Nikki Hastings,\n",
      "        Schedule: TuTh 8:00am - 10:45am,\n",
      "        Period: Fall_2025\n",
      "\n",
      "Course ID: BME6056\n",
      "        Title: Going Pro, Professional Development in Biomedical Engineering\n",
      "        Credits: 1 - 2,\n",
      "        Instructor: Kimberly Kelly,\n",
      "        Schedule: Mo 11:00am - 12:00pm,\n",
      "        Period: Spring_2025\n",
      "\n",
      "Course ID: BME6550\n",
      "        Title: Special Topics in Biomedical Engineering\n",
      "        Credits: 3,\n",
      "        Instructor: Frederick Epstein, John Hossack,\n",
      "        Schedule: MoWe 2:00pm - 3:15pm,\n",
      "        Period: Spring_2025\n",
      "\n",
      "Course ID: BME6550\n",
      "        Title: Special Topics in Biomedical Engineering\n",
      "        Credits: 3,\n",
      "        Instructor: Robert Perry,\n",
      "        Schedule: TuTh 4:30pm - 5:45pm,\n",
      "        Period: Spring_2025\n",
      "\n",
      "Course ID: BME6056\n",
      "        Title: Going Pro, Professional Development in Biomedical Engineering\n",
      "        Credits: 1 - 2,\n",
      "        Instructor: Robert Perry,\n",
      "        Schedule: We 3:30pm - 4:45pm,\n",
      "        Period: Fall_2025\n",
      "\n",
      "Course ID: BME6550\n",
      "        Title: Special Topics in Biomedical Engineering\n",
      "        Credits: 3,\n",
      "        Instructor: Steven Caliari,\n",
      "       \n"
     ]
    }
   ],
   "source": [
    "print('\\n* <Course ID>: <Title> | <Schedule> | <Instructor>\\n\\nCourse ID: BME4550\\n        Title: Special Topics in Biomedical Engineering\\n        Credits: 3,\\n        Instructor: David Chen,\\n        Schedule: Fr 8:30am - 11:30am,\\n        Period: Fall_2025\\n\\nCourse ID: BME6550\\n        Title: Special Topics in Biomedical Engineering\\n        Credits: 3,\\n        Instructor: Nikki Hastings,\\n        Schedule: TuTh 8:00am - 10:45am,\\n        Period: Fall_2025\\n\\nCourse ID: BME6056\\n        Title: Going Pro, Professional Development in Biomedical Engineering\\n        Credits: 1 - 2,\\n        Instructor: Kimberly Kelly,\\n        Schedule: Mo 11:00am - 12:00pm,\\n        Period: Spring_2025\\n\\nCourse ID: BME6550\\n        Title: Special Topics in Biomedical Engineering\\n        Credits: 3,\\n        Instructor: Frederick Epstein, John Hossack,\\n        Schedule: MoWe 2:00pm - 3:15pm,\\n        Period: Spring_2025\\n\\nCourse ID: BME6550\\n        Title: Special Topics in Biomedical Engineering\\n        Credits: 3,\\n        Instructor: Robert Perry,\\n        Schedule: TuTh 4:30pm - 5:45pm,\\n        Period: Spring_2025\\n\\nCourse ID: BME6056\\n        Title: Going Pro, Professional Development in Biomedical Engineering\\n        Credits: 1 - 2,\\n        Instructor: Robert Perry,\\n        Schedule: We 3:30pm - 4:45pm,\\n        Period: Fall_2025\\n\\nCourse ID: BME6550\\n        Title: Special Topics in Biomedical Engineering\\n        Credits: 3,\\n        Instructor: Steven Caliari,\\n       ')"
   ]
  },
  {
   "cell_type": "code",
   "execution_count": 109,
   "metadata": {},
   "outputs": [
    {
     "name": "stderr",
     "output_type": "stream",
     "text": [
      "/Users/rfell/miniconda3/lib/python3.12/site-packages/transformers/generation/configuration_utils.py:628: UserWarning: `do_sample` is set to `False`. However, `temperature` is set to `0.1` -- this flag is only used in sample-based generation modes. You should set `do_sample=True` or unset `temperature`.\n",
      "  warnings.warn(\n",
      "Setting `pad_token_id` to `eos_token_id`:2 for open-end generation.\n"
     ]
    },
    {
     "data": {
      "text/plain": [
       "'\\n* <Course ID>: <Title> | <Schedule> | <Instructor>\\n\\nSpring 2025 Schedule:\\n\\n* BME6550: Special Topics in Biomedical Engineering | TuTh 8:00am - 10:45am | Nikki Hastings\\n* BME4550: Special Topics in Biomedical Engineering | We 11:00am - 12:00pm | Kimberly Kelly\\n* BME4550: Special Topics in Biomedical Engineering | We 11:00am - 12:00pm | David Chen\\n* BME6550: Special Topics in Biomedical Engineering | TuTh 8:00am - 10:45am | Nikki Hastings\\n* BME6550: Special Topics in Biomedical Engineering | TuTh 8:00am - 10:45am | Nikki Hastings\\n* BME6550: Special Topics in Biomedical Engineering | TuTh 8:00am - 10:45am | Nikki Hastings\\n* BME6550: Special Topics in Biomedical Engineering | TuTh 8:00am - 10:45am | Nikki Hastings\\n* BME6550: Special Topics in Biomedical Engineering | TuTh 8:00am - 10:45am | Nikki Hastings\\n* BME6550: Special Topics in Biomedical Engineering | TuTh 8:00am - 10:45am | Nikki Hastings\\n* BME6550: Special Topics in Biomedical Engineering | TuTh 8:00am - 10:45am | Nikki Hastings\\n* BME6550: Special Topics in Biomedical Engineering | TuTh 8:00am - 10:45am | Nikki Hastings\\n* BME6550: Special Topics in Biomedical Engineering | TuTh 8:00am - 10:45am | Nikki Hastings\\n* BME65'"
      ]
     },
     "execution_count": 109,
     "metadata": {},
     "output_type": "execute_result"
    }
   ],
   "source": [
    "generate_response(\"Can you make a semester schedule or a fourth year biomedical engineering student for fall 2025?\", k_s=20)"
   ]
  },
  {
   "cell_type": "code",
   "execution_count": 113,
   "metadata": {},
   "outputs": [
    {
     "name": "stdout",
     "output_type": "stream",
     "text": [
      "\n",
      "* <Course ID>: <Title> | <Schedule> | <Instructor>\n",
      "\n",
      "Spring 2025 Schedule:\n",
      "\n",
      "* BME6550: Special Topics in Biomedical Engineering | TuTh 8:00am - 10:45am | Nikki Hastings\n",
      "* BME4550: Special Topics in Biomedical Engineering | We 11:00am - 12:00pm | Kimberly Kelly\n",
      "* BME4550: Special Topics in Biomedical Engineering | We 11:00am - 12:00pm | David Chen\n",
      "* BME6550: Special Topics in Biomedical Engineering | TuTh 8:00am - 10:45am | Nikki Hastings\n",
      "* BME6550: Special Topics in Biomedical Engineering | TuTh 8:00am - 10:45am | Nikki Hastings\n",
      "* BME6550: Special Topics in Biomedical Engineering | TuTh 8:00am - 10:45am | Nikki Hastings\n",
      "* BME6550: Special Topics in Biomedical Engineering | TuTh 8:00am - 10:45am | Nikki Hastings\n",
      "* BME6550: Special Topics in Biomedical Engineering | TuTh 8:00am - 10:45am | Nikki Hastings\n",
      "* BME6550: Special Topics in Biomedical Engineering | TuTh 8:00am - 10:45am | Nikki Hastings\n",
      "* BME6550: Special Topics in Biomedical Engineering | TuTh 8:00am - 10:45am | Nikki Hastings\n",
      "* BME6550: Special Topics in Biomedical Engineering | TuTh 8:00am - 10:45am | Nikki Hastings\n",
      "* BME6550: Special Topics in Biomedical Engineering | TuTh 8:00am - 10:45am | Nikki Hastings\n",
      "* BME65\n"
     ]
    }
   ],
   "source": [
    "print('\\n* <Course ID>: <Title> | <Schedule> | <Instructor>\\n\\nSpring 2025 Schedule:\\n\\n* BME6550: Special Topics in Biomedical Engineering | TuTh 8:00am - 10:45am | Nikki Hastings\\n* BME4550: Special Topics in Biomedical Engineering | We 11:00am - 12:00pm | Kimberly Kelly\\n* BME4550: Special Topics in Biomedical Engineering | We 11:00am - 12:00pm | David Chen\\n* BME6550: Special Topics in Biomedical Engineering | TuTh 8:00am - 10:45am | Nikki Hastings\\n* BME6550: Special Topics in Biomedical Engineering | TuTh 8:00am - 10:45am | Nikki Hastings\\n* BME6550: Special Topics in Biomedical Engineering | TuTh 8:00am - 10:45am | Nikki Hastings\\n* BME6550: Special Topics in Biomedical Engineering | TuTh 8:00am - 10:45am | Nikki Hastings\\n* BME6550: Special Topics in Biomedical Engineering | TuTh 8:00am - 10:45am | Nikki Hastings\\n* BME6550: Special Topics in Biomedical Engineering | TuTh 8:00am - 10:45am | Nikki Hastings\\n* BME6550: Special Topics in Biomedical Engineering | TuTh 8:00am - 10:45am | Nikki Hastings\\n* BME6550: Special Topics in Biomedical Engineering | TuTh 8:00am - 10:45am | Nikki Hastings\\n* BME6550: Special Topics in Biomedical Engineering | TuTh 8:00am - 10:45am | Nikki Hastings\\n* BME65')"
   ]
  },
  {
   "cell_type": "code",
   "execution_count": 110,
   "metadata": {},
   "outputs": [
    {
     "name": "stderr",
     "output_type": "stream",
     "text": [
      "Setting `pad_token_id` to `eos_token_id`:2 for open-end generation.\n"
     ]
    },
    {
     "data": {
      "text/plain": [
       "'\\n* ECON2020 - Principles of Economics: Macroeconomics | MoTuWeThFr 10:30am - 12:45pm | Jessica Kripalani\\n* ECON2010 - Principles of Economics: Microeconomics | Tu 9:00am - 9:50am | To Be Announced\\n* ECON2010 - Principles of Economics: Microeconomics | Th 6:00pm - 6:50pm | To Be Announced\\n* ECON2010 - Principles of Economics: Microeconomics | Fr 12:00pm - 12:50pm | To Be Announced\\n* ECON2010 - Principles of Economics: Microeconomics | Tu 8:00am - 8:50am | To Be Announced\\n* ECON2010 - Principles of Economics: Microeconomics | Th 5:00pm - 5:50pm | To Be Announced\\n* ECON2010 - Principles of Economics: Microeconomics | We 2:00pm - 2:50pm | To Be Announced\\n* ECON2010 - Principles of Economics: Microeconomics | We 11:00am - 11:50am | To Be Announced\\n* ECON2010 - Principles of Economics: Microeconomics | We 6:00pm - 6:50pm | To Be Announced\\n* ECON2010 - Principles of Economics: Microeconomics | Th 6:00pm - 6:50pm | To Be Announced\\n* ECON2010 - Principles of Economics: Microeconomics | We 5:00pm - 5:50pm | To Be Announced\\n* ECON2010 - Principles of Economics: Microeconomics | Tu 2:00pm - 2:50pm | To Be Announced\\n* ECON2010 - Principles of Economics: Microeconomics | Th 7:00pm - 7:50pm | To Be Announced\\n* ECON2'"
      ]
     },
     "execution_count": 110,
     "metadata": {},
     "output_type": "execute_result"
    }
   ],
   "source": [
    "generate_response('Can you make a semester schedule for a first year economics student for fall 2025?', k_s=20)"
   ]
  },
  {
   "cell_type": "code",
   "execution_count": 114,
   "metadata": {},
   "outputs": [
    {
     "name": "stdout",
     "output_type": "stream",
     "text": [
      "\n",
      "* ECON2020 - Principles of Economics: Macroeconomics | MoTuWeThFr 10:30am - 12:45pm | Jessica Kripalani\n",
      "* ECON2010 - Principles of Economics: Microeconomics | Tu 9:00am - 9:50am | To Be Announced\n",
      "* ECON2010 - Principles of Economics: Microeconomics | Th 6:00pm - 6:50pm | To Be Announced\n",
      "* ECON2010 - Principles of Economics: Microeconomics | Fr 12:00pm - 12:50pm | To Be Announced\n",
      "* ECON2010 - Principles of Economics: Microeconomics | Tu 8:00am - 8:50am | To Be Announced\n",
      "* ECON2010 - Principles of Economics: Microeconomics | Th 5:00pm - 5:50pm | To Be Announced\n",
      "* ECON2010 - Principles of Economics: Microeconomics | We 2:00pm - 2:50pm | To Be Announced\n",
      "* ECON2010 - Principles of Economics: Microeconomics | We 11:00am - 11:50am | To Be Announced\n",
      "* ECON2010 - Principles of Economics: Microeconomics | We 6:00pm - 6:50pm | To Be Announced\n",
      "* ECON2010 - Principles of Economics: Microeconomics | Th 6:00pm - 6:50pm | To Be Announced\n",
      "* ECON2010 - Principles of Economics: Microeconomics | We 5:00pm - 5:50pm | To Be Announced\n",
      "* ECON2010 - Principles of Economics: Microeconomics | Tu 2:00pm - 2:50pm | To Be Announced\n",
      "* ECON2010 - Principles of Economics: Microeconomics | Th 7:00pm - 7:50pm | To Be Announced\n",
      "* ECON2\n"
     ]
    }
   ],
   "source": [
    "print('\\n* ECON2020 - Principles of Economics: Macroeconomics | MoTuWeThFr 10:30am - 12:45pm | Jessica Kripalani\\n* ECON2010 - Principles of Economics: Microeconomics | Tu 9:00am - 9:50am | To Be Announced\\n* ECON2010 - Principles of Economics: Microeconomics | Th 6:00pm - 6:50pm | To Be Announced\\n* ECON2010 - Principles of Economics: Microeconomics | Fr 12:00pm - 12:50pm | To Be Announced\\n* ECON2010 - Principles of Economics: Microeconomics | Tu 8:00am - 8:50am | To Be Announced\\n* ECON2010 - Principles of Economics: Microeconomics | Th 5:00pm - 5:50pm | To Be Announced\\n* ECON2010 - Principles of Economics: Microeconomics | We 2:00pm - 2:50pm | To Be Announced\\n* ECON2010 - Principles of Economics: Microeconomics | We 11:00am - 11:50am | To Be Announced\\n* ECON2010 - Principles of Economics: Microeconomics | We 6:00pm - 6:50pm | To Be Announced\\n* ECON2010 - Principles of Economics: Microeconomics | Th 6:00pm - 6:50pm | To Be Announced\\n* ECON2010 - Principles of Economics: Microeconomics | We 5:00pm - 5:50pm | To Be Announced\\n* ECON2010 - Principles of Economics: Microeconomics | Tu 2:00pm - 2:50pm | To Be Announced\\n* ECON2010 - Principles of Economics: Microeconomics | Th 7:00pm - 7:50pm | To Be Announced\\n* ECON2')"
   ]
  },
  {
   "cell_type": "code",
   "execution_count": 111,
   "metadata": {},
   "outputs": [
    {
     "name": "stderr",
     "output_type": "stream",
     "text": [
      "/Users/rfell/miniconda3/lib/python3.12/site-packages/transformers/generation/configuration_utils.py:628: UserWarning: `do_sample` is set to `False`. However, `temperature` is set to `0.1` -- this flag is only used in sample-based generation modes. You should set `do_sample=True` or unset `temperature`.\n",
      "  warnings.warn(\n",
      "Setting `pad_token_id` to `eos_token_id`:2 for open-end generation.\n"
     ]
    },
    {
     "data": {
      "text/plain": [
       "'\\n* ECON2020 - Principles of Economics: Macroeconomics | MoTuWeThFr 10:30am - 12:45pm | Jessica Kripalani\\n* ECON2010 - Principles of Economics: Microeconomics | Tu 9:00am - 9:50am | To Be Announced\\n* ECON2010 - Principles of Economics: Microeconomics | Th 6:00pm - 6:50pm | To Be Announced\\n* ECON2010 - Principles of Economics: Microeconomics | Fr 12:00pm - 12:50pm | To Be Announced\\n* ECON2010 - Principles of Economics: Microeconomics | Tu 8:00am - 8:50am | To Be Announced\\n* ECON2010 - Principles of Economics: Microeconomics | Th 5:00pm - 5:50pm | To Be Announced\\n* ECON2010 - Principles of Economics: Microeconomics | We 2:00pm - 2:50pm | To Be Announced\\n* ECON2010 - Principles of Economics: Microeconomics | We 11:00am - 11:50am | To Be Announced\\n* ECON2010 - Principles of Economics: Microeconomics | We 6:00pm - 6:50pm | To Be Announced\\n* ECON2010 - Principles of Economics: Microeconomics | Th 6:00pm - 6:50pm | To Be Announced\\n* ECON2010 - Principles of Economics: Microeconomics | We 5:00pm - 5:50pm | To Be Announced\\n* ECON2010 - Principles of Economics: Microeconomics | Tu 2:00pm - 2:50pm | To Be Announced\\n* ECON2010 - Principles of Economics: Microeconomics | Th 7:00pm - 7:50pm | To Be Announced\\n* ECON2'"
      ]
     },
     "execution_count": 111,
     "metadata": {},
     "output_type": "execute_result"
    }
   ],
   "source": [
    "generate_response('Can you make a semester schedule for a third year economics student for fall 2025?', k_s = 20)"
   ]
  },
  {
   "cell_type": "code",
   "execution_count": 115,
   "metadata": {},
   "outputs": [
    {
     "name": "stdout",
     "output_type": "stream",
     "text": [
      "\n",
      "* ECON2020 - Principles of Economics: Macroeconomics | MoTuWeThFr 10:30am - 12:45pm | Jessica Kripalani\n",
      "* ECON2010 - Principles of Economics: Microeconomics | Tu 9:00am - 9:50am | To Be Announced\n",
      "* ECON2010 - Principles of Economics: Microeconomics | Th 6:00pm - 6:50pm | To Be Announced\n",
      "* ECON2010 - Principles of Economics: Microeconomics | Fr 12:00pm - 12:50pm | To Be Announced\n",
      "* ECON2010 - Principles of Economics: Microeconomics | Tu 8:00am - 8:50am | To Be Announced\n",
      "* ECON2010 - Principles of Economics: Microeconomics | Th 5:00pm - 5:50pm | To Be Announced\n",
      "* ECON2010 - Principles of Economics: Microeconomics | We 2:00pm - 2:50pm | To Be Announced\n",
      "* ECON2010 - Principles of Economics: Microeconomics | We 11:00am - 11:50am | To Be Announced\n",
      "* ECON2010 - Principles of Economics: Microeconomics | We 6:00pm - 6:50pm | To Be Announced\n",
      "* ECON2010 - Principles of Economics: Microeconomics | Th 6:00pm - 6:50pm | To Be Announced\n",
      "* ECON2010 - Principles of Economics: Microeconomics | We 5:00pm - 5:50pm | To Be Announced\n",
      "* ECON2010 - Principles of Economics: Microeconomics | Tu 2:00pm - 2:50pm | To Be Announced\n",
      "* ECON2010 - Principles of Economics: Microeconomics | Th 7:00pm - 7:50pm | To Be Announced\n",
      "* ECON2\n"
     ]
    }
   ],
   "source": [
    "print('\\n* ECON2020 - Principles of Economics: Macroeconomics | MoTuWeThFr 10:30am - 12:45pm | Jessica Kripalani\\n* ECON2010 - Principles of Economics: Microeconomics | Tu 9:00am - 9:50am | To Be Announced\\n* ECON2010 - Principles of Economics: Microeconomics | Th 6:00pm - 6:50pm | To Be Announced\\n* ECON2010 - Principles of Economics: Microeconomics | Fr 12:00pm - 12:50pm | To Be Announced\\n* ECON2010 - Principles of Economics: Microeconomics | Tu 8:00am - 8:50am | To Be Announced\\n* ECON2010 - Principles of Economics: Microeconomics | Th 5:00pm - 5:50pm | To Be Announced\\n* ECON2010 - Principles of Economics: Microeconomics | We 2:00pm - 2:50pm | To Be Announced\\n* ECON2010 - Principles of Economics: Microeconomics | We 11:00am - 11:50am | To Be Announced\\n* ECON2010 - Principles of Economics: Microeconomics | We 6:00pm - 6:50pm | To Be Announced\\n* ECON2010 - Principles of Economics: Microeconomics | Th 6:00pm - 6:50pm | To Be Announced\\n* ECON2010 - Principles of Economics: Microeconomics | We 5:00pm - 5:50pm | To Be Announced\\n* ECON2010 - Principles of Economics: Microeconomics | Tu 2:00pm - 2:50pm | To Be Announced\\n* ECON2010 - Principles of Economics: Microeconomics | Th 7:00pm - 7:50pm | To Be Announced\\n* ECON2')"
   ]
  },
  {
   "cell_type": "code",
   "execution_count": 112,
   "metadata": {},
   "outputs": [
    {
     "name": "stderr",
     "output_type": "stream",
     "text": [
      "/Users/rfell/miniconda3/lib/python3.12/site-packages/transformers/generation/configuration_utils.py:628: UserWarning: `do_sample` is set to `False`. However, `temperature` is set to `0.1` -- this flag is only used in sample-based generation modes. You should set `do_sample=True` or unset `temperature`.\n",
      "  warnings.warn(\n",
      "Setting `pad_token_id` to `eos_token_id`:2 for open-end generation.\n"
     ]
    },
    {
     "data": {
      "text/plain": [
       "\"\\n* ARCH 1010: History of Architecture I | Mo 11:00am - 11:50am, Tu 11:00am - 11:50am, We 11:00am - 11:50am | Andrew Johnston\\n* ARH 3120: Theories of Architecture | TuTh 11:00am - 12:15pm | Alissa Diamond\\n* ARH 4591: Undergraduate Seminar in the History of Architecture | TuTh 11:00am - 12:15pm | Elgin Cleckley, Lisa Reilly\\n* ARCH 3500: Special Topics in Architecture | Th 6:00pm - 8:30pm | Jose Ibarra\\n* ARCH 6500: Special Topics in Architecture | Th 6:00pm - 8:30pm | Jose Ibarra\\n* ARCH 5500: Special Topics in Architecture | Th 6:00pm - 8:30pm | Evan Shieh\\n* ARCH 5010: Introduction to Architecture | MoTuWeThFr 8:30am - 6:00pm | Devin Dobrowolski, Felipe Correa, Jonah Coe-Scharff, Katie Stranix\\n\\nTotal Credits: 15\\n\\nNote: This schedule is subject to change based on the availability of courses and the student's preferences.\""
      ]
     },
     "execution_count": 112,
     "metadata": {},
     "output_type": "execute_result"
    }
   ],
   "source": [
    "generate_response('Can you make a semester schedule for a third year architecture student for fall 2025?', k_s = 20)"
   ]
  },
  {
   "cell_type": "code",
   "execution_count": 116,
   "metadata": {},
   "outputs": [
    {
     "name": "stdout",
     "output_type": "stream",
     "text": [
      "\n",
      "* ARCH 1010: History of Architecture I | Mo 11:00am - 11:50am, Tu 11:00am - 11:50am, We 11:00am - 11:50am | Andrew Johnston\n",
      "* ARH 3120: Theories of Architecture | TuTh 11:00am - 12:15pm | Alissa Diamond\n",
      "* ARH 4591: Undergraduate Seminar in the History of Architecture | TuTh 11:00am - 12:15pm | Elgin Cleckley, Lisa Reilly\n",
      "* ARCH 3500: Special Topics in Architecture | Th 6:00pm - 8:30pm | Jose Ibarra\n",
      "* ARCH 6500: Special Topics in Architecture | Th 6:00pm - 8:30pm | Jose Ibarra\n",
      "* ARCH 5500: Special Topics in Architecture | Th 6:00pm - 8:30pm | Evan Shieh\n",
      "* ARCH 5010: Introduction to Architecture | MoTuWeThFr 8:30am - 6:00pm | Devin Dobrowolski, Felipe Correa, Jonah Coe-Scharff, Katie Stranix\n",
      "\n",
      "Total Credits: 15\n",
      "\n",
      "Note: This schedule is subject to change based on the availability of courses and the student's preferences.\n"
     ]
    }
   ],
   "source": [
    "print(\"\\n* ARCH 1010: History of Architecture I | Mo 11:00am - 11:50am, Tu 11:00am - 11:50am, We 11:00am - 11:50am | Andrew Johnston\\n* ARH 3120: Theories of Architecture | TuTh 11:00am - 12:15pm | Alissa Diamond\\n* ARH 4591: Undergraduate Seminar in the History of Architecture | TuTh 11:00am - 12:15pm | Elgin Cleckley, Lisa Reilly\\n* ARCH 3500: Special Topics in Architecture | Th 6:00pm - 8:30pm | Jose Ibarra\\n* ARCH 6500: Special Topics in Architecture | Th 6:00pm - 8:30pm | Jose Ibarra\\n* ARCH 5500: Special Topics in Architecture | Th 6:00pm - 8:30pm | Evan Shieh\\n* ARCH 5010: Introduction to Architecture | MoTuWeThFr 8:30am - 6:00pm | Devin Dobrowolski, Felipe Correa, Jonah Coe-Scharff, Katie Stranix\\n\\nTotal Credits: 15\\n\\nNote: This schedule is subject to change based on the availability of courses and the student's preferences.\")"
   ]
  },
  {
   "cell_type": "markdown",
   "metadata": {},
   "source": [
    "## Answer relevence"
   ]
  },
  {
   "cell_type": "code",
   "execution_count": 117,
   "metadata": {},
   "outputs": [],
   "source": [
    "import numpy as np\n",
    "from numpy.linalg import norm"
   ]
  },
  {
   "cell_type": "code",
   "execution_count": 118,
   "metadata": {},
   "outputs": [],
   "source": [
    "model = SentenceTransformer(\"all-MiniLM-L6-v2\")\n",
    "\n",
    "#get embeddings\n",
    "def get_embedding(text):\n",
    "    embedding = model.encode(text)\n",
    "\n",
    "    return embedding\n",
    "\n",
    "#calculate cosine_similarity\n",
    "def cosine_similarity(a, b):\n",
    "    return np.dot(a, b) / (norm(a) * norm(b))"
   ]
  },
  {
   "cell_type": "code",
   "execution_count": 119,
   "metadata": {},
   "outputs": [],
   "source": [
    "def get_sim_score(user_query, generated_question):\n",
    "    emb_q = get_embedding(user_query)\n",
    "    emb_qi = get_embedding(generated_question)\n",
    "\n",
    "    sim_score = cosine_similarity(emb_q, emb_qi)\n",
    "\n",
    "    return print(f\"User Query: {user_query}\\n Generated Question: {generated_question}\\nSimilarity score: {sim_score:.4f}\\n -------------\")"
   ]
  },
  {
   "cell_type": "code",
   "execution_count": 120,
   "metadata": {},
   "outputs": [],
   "source": [
    "#querys to test\n",
    "querys = ['Can you make a semester schedule for a second year biomedical engineering student for fall 2025?',\n",
    "          'Can you make a semester schedule or a fourth year biomedical engineering student for fall 2025?',\n",
    "          'Can you make a semester schedule for a first year economics student for fall 2025?',\n",
    "          'Can you make a semester schedule for a third year economics student for fall 2025?',\n",
    "          'Can you make a semester schedule for a third year architecture student for fall 2025?']\n",
    "\n",
    "#generated responses generated with output and ask to \"generate a question for the given answer\"\n",
    "gen_responses= [\n",
    "    'What are some of the Special Topics and Professional Development courses in Biomedical Engineering offered at UVA in Fall and Spring 2025, including their instructors and schedules?',\n",
    "    'What courses are listed under Special Topics in Biomedical Engineering for Spring 2025, and who are the instructors along with their scheduled class times?',\n",
    "    'What sections of ECON2010 and ECON2020 are being offered, including their schedules and instructors, for the upcoming semester?',\n",
    "    'What are the available sections, meeting times, and instructors for ECON2010 and ECON2020 in the upcoming term?',\n",
    "    'What architecture courses are included in a 15-credit schedule, along with their meeting times and instructors?'  \n",
    "]"
   ]
  },
  {
   "cell_type": "code",
   "execution_count": 121,
   "metadata": {},
   "outputs": [
    {
     "name": "stdout",
     "output_type": "stream",
     "text": [
      "User Query: Can you make a semester schedule for a second year biomedical engineering student for fall 2025?\n",
      " Generated Question: What are some of the Special Topics and Professional Development courses in Biomedical Engineering offered at UVA in Fall and Spring 2025, including their instructors and schedules?\n",
      "Similarity score: 0.6176\n",
      " -------------\n",
      "User Query: Can you make a semester schedule or a fourth year biomedical engineering student for fall 2025?\n",
      " Generated Question: What courses are listed under Special Topics in Biomedical Engineering for Spring 2025, and who are the instructors along with their scheduled class times?\n",
      "Similarity score: 0.6882\n",
      " -------------\n",
      "User Query: Can you make a semester schedule for a first year economics student for fall 2025?\n",
      " Generated Question: What sections of ECON2010 and ECON2020 are being offered, including their schedules and instructors, for the upcoming semester?\n",
      "Similarity score: 0.5777\n",
      " -------------\n",
      "User Query: Can you make a semester schedule for a third year economics student for fall 2025?\n",
      " Generated Question: What are the available sections, meeting times, and instructors for ECON2010 and ECON2020 in the upcoming term?\n",
      "Similarity score: 0.5364\n",
      " -------------\n",
      "User Query: Can you make a semester schedule for a third year architecture student for fall 2025?\n",
      " Generated Question: What architecture courses are included in a 15-credit schedule, along with their meeting times and instructors?\n",
      "Similarity score: 0.6526\n",
      " -------------\n"
     ]
    }
   ],
   "source": [
    "for i,query in enumerate(querys):\n",
    "    get_sim_score(query, gen_responses[i])"
   ]
  },
  {
   "cell_type": "code",
   "execution_count": null,
   "metadata": {},
   "outputs": [],
   "source": []
  }
 ],
 "metadata": {
  "kernelspec": {
   "display_name": "base",
   "language": "python",
   "name": "python3"
  },
  "language_info": {
   "codemirror_mode": {
    "name": "ipython",
    "version": 3
   },
   "file_extension": ".py",
   "mimetype": "text/x-python",
   "name": "python",
   "nbconvert_exporter": "python",
   "pygments_lexer": "ipython3",
   "version": "3.12.2"
  }
 },
 "nbformat": 4,
 "nbformat_minor": 4
}
