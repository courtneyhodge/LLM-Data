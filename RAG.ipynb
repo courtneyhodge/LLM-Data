{
 "cells": [
  {
   "cell_type": "markdown",
   "metadata": {},
   "source": [
    "# Import required packages"
   ]
  },
  {
   "cell_type": "code",
   "execution_count": 1,
   "metadata": {},
   "outputs": [],
   "source": [
    "#load packages\n",
    "import pandas as pd\n",
    "from functools import partial\n",
    "from langchain.text_splitter import RecursiveCharacterTextSplitter\n",
    "import os"
   ]
  },
  {
   "cell_type": "code",
   "execution_count": 3,
   "metadata": {},
   "outputs": [],
   "source": [
    "import json\n",
    "import tiktoken\n",
    "import nltk"
   ]
  },
  {
   "cell_type": "code",
   "execution_count": 5,
   "metadata": {},
   "outputs": [],
   "source": [
    "import chromadb\n",
    "from sentence_transformers import SentenceTransformer"
   ]
  },
  {
   "cell_type": "code",
   "execution_count": 6,
   "metadata": {},
   "outputs": [],
   "source": [
    "from transformers import AutoProcessor, AutoTokenizer, AutoModelForImageTextToText\n",
    "import torch"
   ]
  },
  {
   "cell_type": "code",
   "execution_count": 7,
   "metadata": {},
   "outputs": [],
   "source": [
    "from huggingface_hub import login\n",
    "from dotenv import load_dotenv"
   ]
  },
  {
   "cell_type": "markdown",
   "metadata": {},
   "source": [
    "# Load in Documents\n",
    "\n",
    "In this section we will load in the scraped documents and clean them."
   ]
  },
  {
   "cell_type": "code",
   "execution_count": null,
   "metadata": {},
   "outputs": [],
   "source": [
    "#read in csv for majors\n",
    "majors = pd.read_csv(\"uva_majors.csv\")\n",
    "\n",
    "#remove non major data\n",
    "majors = majors.iloc[8:-1]\n"
   ]
  },
  {
   "cell_type": "code",
   "execution_count": null,
   "metadata": {},
   "outputs": [],
   "source": [
    "# remove the extra text from the text column\n",
    "test = 'Info For Students Alumni Military Affiliated Students Faculty & Staff Search Search Submit Search Close search Info For Students Alumni Military Affiliated Students Faculty & Staff Calendars Academic Calendars Exam Schedules Student Records Diplomas Transcripts FERPA Programs Calendar Schools University Registrar Carruthers Hall, 1001 N. Emmet St. P.O. Box 400203 Charlottesville, VA 22904-4203 Staff Directory Contact Info Phone: (434) 924-4122 Fax: (434) 924-4156 Email: [email protected] Hours Of Operation M-F: 10am - noon and 1pm - 4pm Â© 2024 By the Rector and Visitors of the University of Virginia Legal Privacy Report a Barrier Share Your Feedback University of Virginia Mar 31, 2025 Undergraduate Record 2024-2025 Select a Catalog Undergraduate Record 2024-2025 Graduate Record 2024-2025 Global Search Catalog Search Choose Search Location Select an option Courses Programs Schools/Colleges & Departments Policies and Other Non-Academic Content Entire Catalog Search Keyword Field Whole Word/Phrase Advanced Search Catalog Navigation Catalog Home Academic Calendar Admission Schools Programs, Degrees & Course Info Student Resources ROTC University Regulations About UVA Archived Records HELP Undergraduate Record 2024-2025'\n",
    "text_to_remove_head = 'Info For Students Alumni Military Affiliated Students Faculty & Staff Search Search Submit Search Close search Info For Students Alumni Military Affiliated Students Faculty & Staff Calendars Academic Calendars Exam Schedules Student Records Diplomas Transcripts FERPA Programs Calendar Schools University Registrar Carruthers Hall, 1001 N. Emmet St. P.O. Box 400203 Charlottesville, VA 22904-4203 Staff Directory Contact Info Phone: (434) 924-4122 Fax: (434) 924-4156 Email: [email protected] Hours Of Operation M-F: 10am - noon and 1pm - 4pm Â© 2024 By the Rector and Visitors of the University of Virginia Legal Privacy Report a Barrier Share Your Feedback University of Virginia Mar 12, 2025 Undergraduate Record 2024-2025 Select a Catalog Undergraduate Record 2024-2025 Graduate Record 2024-2025 Global Search Catalog Search Choose Search Location Select an option Courses Programs Schools/Colleges & Departments Policies and Other Non-Academic Content Entire Catalog Search Keyword Field Whole Word/Phrase Advanced Search Catalog Navigation Catalog Home Academic Calendar Admission Schools Programs, Degrees & Course Info Student Resources ROTC University Regulations About UVA Archived Records HELP Undergraduate Record 2024-2025' \n",
    "text_to_remove_tail = 'Back to Top | Print-Friendly Page (opens a new window) All catalogs © 2025 University of Virginia. Powered by Modern Campus Catalog™ . .'\n",
    "#function to remove the text\n",
    "def remove_text(text):\n",
    "    if text.startswith(text_to_remove_head):\n",
    "        text = text[len(text_to_remove_head):]\n",
    "    if text.startswith(test):\n",
    "        text = text[len(test):]\n",
    "    if text.endswith(text_to_remove_tail):\n",
    "        text = text[:-len(text_to_remove_tail)]\n",
    "    return text.strip()\n",
    "\n",
    "#apply the function to the text column\n",
    "majors['Text'] = majors['Text'].apply(remove_text)\n",
    "\n",
    "#since some of the majors have extra text that is a bit different, we need to remove it\n",
    "majors[majors['Major'] == 'Psychology, B.A.']['Text']\n",
    "\n",
    "majors[50:90]"
   ]
  },
  {
   "cell_type": "code",
   "execution_count": null,
   "metadata": {},
   "outputs": [],
   "source": [
    "# remove extra text from the majors column where majors includes \"interdisciplinary\"\n",
    "text_to_remove = 'Interdisciplinary - '\n",
    "text_to_remove2 = 'Interdisciplinary Major - '\n",
    "def remove_text_majors(text):\n",
    "    if text.startswith(text_to_remove):\n",
    "        text = text[len(text_to_remove):]\n",
    "    if text.startswith(text_to_remove2):\n",
    "        text = text[len(text_to_remove2):]\n",
    "    return text.strip()\n",
    "\n",
    "#apply the function to the majors column\n",
    "majors['Major'] = majors['Major'].apply(remove_text_majors)"
   ]
  },
  {
   "cell_type": "code",
   "execution_count": null,
   "metadata": {},
   "outputs": [],
   "source": [
    "majors[20:40]"
   ]
  },
  {
   "cell_type": "code",
   "execution_count": null,
   "metadata": {},
   "outputs": [],
   "source": [
    "#read in schools data\n",
    "schools = pd.read_csv(\"uva_schools_academic_rules.csv\")\n",
    "schools"
   ]
  },
  {
   "cell_type": "code",
   "execution_count": null,
   "metadata": {},
   "outputs": [],
   "source": [
    "# remove the extra text from the text column\n",
    "extra_begining_text = 'Info For Students Alumni Military Affiliated Students Faculty & Staff Search Search Submit Search Close search Info For Students Alumni Military Affiliated Students Faculty & Staff Calendars Academic Calendars Exam Schedules Student Records Diplomas Transcripts FERPA Programs Calendar Schools University Registrar Carruthers Hall, 1001 N. Emmet St. P.O. Box 400203 Charlottesville, VA 22904-4203 Staff Directory Contact Info Phone: (434) 924-4122 Fax: (434) 924-4156 Email: [email protected] Hours Of Operation M-F: 10am - noon and 1pm - 4pm Â© 2024 By the Rector and Visitors of the University of Virginia Legal Privacy Report a Barrier Share Your Feedback University of Virginia Mar 31, 2025 Undergraduate Record 2024-2025 Select a Catalog Undergraduate Record 2024-2025 Graduate Record 2024-2025 Global Search Catalog Search Choose Search Location Select an option Courses Programs Schools/Colleges & Departments Policies and Other Non-Academic Content Entire Catalog Search Keyword Field Whole Word/Phrase Advanced Search Catalog Navigation Catalog Home Academic Calendar Admission Schools Programs, Degrees & Course Info Student Resources ROTC University Regulations About UVA Archived Records HELP Undergraduate Record 2024-2025'\n",
    "\n",
    "def remove_text_requirements(text):\n",
    "    if text.startswith(extra_begining_text):\n",
    "        text = text[len(extra_begining_text):]\n",
    "    return text.strip()\n",
    "\n",
    "#run the function on the text column\n",
    "schools['Text'] = schools['Text'].apply(remove_text_requirements)"
   ]
  },
  {
   "cell_type": "code",
   "execution_count": null,
   "metadata": {},
   "outputs": [],
   "source": [
    "schools"
   ]
  },
  {
   "cell_type": "markdown",
   "metadata": {},
   "source": [
    "# Add school metadata to majors and convert to dictionary"
   ]
  },
  {
   "cell_type": "code",
   "execution_count": null,
   "metadata": {},
   "outputs": [],
   "source": [
    "# copy of the majors data frame\n",
    "majors_meta = majors\n",
    "majors_meta['School'] = None\n",
    "majors_meta = majors_meta.reset_index(drop=True)\n",
    "\n",
    "#add school to each majors in major data frame\n",
    "majors_meta['School'][0:3] = 'School of Architecture'\n",
    "majors_meta['School'][3:62] = 'College of Arts and Sciences'\n",
    "majors_meta['School'][62:63] = 'McIntire School of Commerce'\n",
    "majors_meta['School'][63:65] = 'School of Continuing and Professional Studies'\n",
    "majors_meta['School'][65:66] = 'School of Data Science'\n",
    "majors_meta['School'][66:72] = 'School of Education and Human Development'\n",
    "majors_meta['School'][72:83] = 'School of Engineering and Applied Science'\n",
    "majors_meta['School'][83:84] = 'Frank Batten School of Leadership and Public Policy'\n",
    "majors_meta['School'][84:85] = 'School of Nursing'"
   ]
  },
  {
   "cell_type": "code",
   "execution_count": null,
   "metadata": {},
   "outputs": [],
   "source": [
    "majors_meta.head(10)"
   ]
  },
  {
   "cell_type": "code",
   "execution_count": null,
   "metadata": {},
   "outputs": [],
   "source": [
    "#convert majors to dictionary\n",
    "majors_dict = majors_meta.to_dict(orient='records')\n",
    "majors_dict"
   ]
  },
  {
   "cell_type": "code",
   "execution_count": null,
   "metadata": {},
   "outputs": [],
   "source": [
    "#convert schools to dictionary\n",
    "schools_dict = schools.to_dict(orient='records')\n",
    "schools_dict"
   ]
  },
  {
   "cell_type": "markdown",
   "metadata": {},
   "source": [
    "# Chunking"
   ]
  },
  {
   "cell_type": "code",
   "execution_count": null,
   "metadata": {},
   "outputs": [],
   "source": [
    "# disable tokenizer parallelism so we stop getting problems\n",
    "os.environ[\"TOKENIZERS_PARALLELISM\"] = \"false\""
   ]
  },
  {
   "cell_type": "code",
   "execution_count": null,
   "metadata": {},
   "outputs": [],
   "source": [
    "nltk.download(\"punkt\")\n",
    "\n",
    "# Load tokenizer (for OpenAI models)\n",
    "tokenizer = tiktoken.get_encoding(\"cl100k_base\")\n",
    "\n",
    "# Function to chunk text while maintaining sentence structure\n",
    "def chunk_text(text, max_tokens=500):\n",
    "    sentences = nltk.tokenize.sent_tokenize(text)\n",
    "    chunks = []\n",
    "    current_chunk = []\n",
    "    current_length = 0\n",
    "\n",
    "    for sentence in sentences:\n",
    "        sentence_tokens = len(tokenizer.encode(sentence))\n",
    "        if current_length + sentence_tokens > max_tokens:\n",
    "            chunks.append(\" \".join(current_chunk))\n",
    "            current_chunk = []\n",
    "            current_length = 0\n",
    "        current_chunk.append(sentence)\n",
    "        current_length += sentence_tokens\n",
    "\n",
    "    if current_chunk:\n",
    "        chunks.append(\" \".join(current_chunk))\n",
    "\n",
    "    return chunks\n",
    "\n"
   ]
  },
  {
   "cell_type": "markdown",
   "metadata": {},
   "source": [
    "# Store data in ChromaDB vectorized database"
   ]
  },
  {
   "cell_type": "code",
   "execution_count": null,
   "metadata": {},
   "outputs": [],
   "source": [
    "# Initialize ChromaDB\n",
    "chroma_client = chromadb.PersistentClient(path=\"./chroma_db\")  \n",
    "collection = chroma_client.get_or_create_collection(name=\"Majors_Collection\")\n",
    "\n",
    "# Load embedding model\n",
    "model = SentenceTransformer(\"all-MiniLM-L6-v2\")"
   ]
  },
  {
   "cell_type": "markdown",
   "metadata": {},
   "source": [
    "## Don't rerun adding info to database"
   ]
  },
  {
   "cell_type": "code",
   "execution_count": null,
   "metadata": {},
   "outputs": [],
   "source": [
    "# Store chunked majors data\n",
    "for course in majors_dict:\n",
    "    chunks = chunk_text(course[\"Text\"])\n",
    "    for i, chunk in enumerate(chunks):\n",
    "        embedding = model.encode(chunk).tolist()  # Convert to list for ChromaDB\n",
    "        collection.add(\n",
    "            ids=[f\"{course['Major']}_chunk{i}\"],  \n",
    "            embeddings=[embedding],  \n",
    "            metadatas=[{\n",
    "                \"Major\": course[\"Major\"],\n",
    "                \"chunk_index\": i,\n",
    "                \"Text\": chunk,\n",
    "                \"School\": course['School']\n",
    "            }]\n",
    "        )\n",
    "\n",
    "print(\"Chunked course descriptions stored in ChromaDB!\")"
   ]
  },
  {
   "cell_type": "code",
   "execution_count": null,
   "metadata": {},
   "outputs": [],
   "source": [
    "# Store chunked schools data\n",
    "for course in schools_dict:\n",
    "    chunks = chunk_text(course[\"Text\"])\n",
    "    for i, chunk in enumerate(chunks):\n",
    "        embedding = model.encode(chunk).tolist()  # Convert to list for ChromaDB\n",
    "        collection.add(\n",
    "            ids=[f\"{course['School']}_chunk{i}\"],  \n",
    "            embeddings=[embedding],  \n",
    "            metadatas=[{\n",
    "                \"School\": course[\"School\"],\n",
    "                \"chunk_index\": i,\n",
    "                \"Text\": chunk\n",
    "            }]\n",
    "        )\n",
    "\n",
    "print(\"Chunked schools stored in ChromaDB!\")"
   ]
  },
  {
   "cell_type": "markdown",
   "metadata": {},
   "source": [
    "# Retrieval"
   ]
  },
  {
   "cell_type": "code",
   "execution_count": null,
   "metadata": {},
   "outputs": [],
   "source": [
    "# function for document retrieval\n",
    "#user can input the number of major documents and number of school documents they want to retrieve\n",
    "def retrieve_major_and_school_info(query, k_m=10, k_s = 2):\n",
    "    # Step 1: Retrieve major-related chunks\n",
    "    query_embedding = model.encode(query).tolist()\n",
    "\n",
    "    results = collection.query(\n",
    "        query_embeddings=[query_embedding],\n",
    "        n_results=k_m\n",
    "    )\n",
    "\n",
    "    # Step 2: Extract major-specific results and school information\n",
    "    major_info = []\n",
    "    for i in range(len(results[\"ids\"][0])):\n",
    "        metadata = results[\"metadatas\"][0][i]\n",
    "        # If the metadata has 'major_name', this is a major document\n",
    "        if metadata.get(\"Major\"):\n",
    "            major_info.append(metadata)\n",
    "\n",
    "    # Step 3: Extract the school name from the major info\n",
    "    schools_to_query = set([info[\"School\"] for info in major_info])\n",
    "\n",
    "    # Step 4: Retrieve relevant school descriptions based on the inferred school name\n",
    "    school_info = []\n",
    "    for school_name in schools_to_query:\n",
    "        school_results = collection.query(\n",
    "            query_embeddings=[query_embedding],\n",
    "            where={\"School\": school_name},\n",
    "            n_results=k_s\n",
    "        )\n",
    "        school_info.extend(school_results[\"metadatas\"][0])\n",
    "\n",
    "    return major_info, school_info"
   ]
  },
  {
   "cell_type": "code",
   "execution_count": null,
   "metadata": {},
   "outputs": [],
   "source": [
    "# Example search for \"computer science\"\n",
    "query = \"course schedule for computer science major\"\n",
    "major_info, school_info = retrieve_major_and_school_info(query, 10, 5)"
   ]
  },
  {
   "cell_type": "code",
   "execution_count": null,
   "metadata": {},
   "outputs": [],
   "source": [
    "major_info"
   ]
  },
  {
   "cell_type": "code",
   "execution_count": null,
   "metadata": {},
   "outputs": [],
   "source": [
    "school_info"
   ]
  },
  {
   "cell_type": "code",
   "execution_count": null,
   "metadata": {},
   "outputs": [],
   "source": [
    "#function to reformat major info into a long string\n",
    "def format_major_info_string(major_info):\n",
    "    formatted_texts = []\n",
    "    for doc in major_info:\n",
    "        school = doc.get('School', 'Unknown School') #get school or unknown school\n",
    "        major = doc.get(\"Major\", \"Unknown Major\")  # Get Major, or \"Unknown Major\" if missing\n",
    "        text = doc.get(\"Text\", \"No Text Available\")  # Get Text, or \"No Text Available\" if missing\n",
    "\n",
    "        # Clean up newline characters and non-breaking spaces\n",
    "        cleaned_text = text.replace(\"\\n\", \" \").replace(\"\\xa0\", \" \")\n",
    "\n",
    "        formatted_texts.append(f\"{school}: {major}: {cleaned_text}\")\n",
    "\n",
    "    context = \"\\n\\n\".join(formatted_texts)  # Join with double newlines for separation\n",
    "    return context"
   ]
  },
  {
   "cell_type": "code",
   "execution_count": null,
   "metadata": {},
   "outputs": [],
   "source": [
    "#function to reformat school info into a long string\n",
    "def format_school_info_string(school_info):\n",
    "    formatted_texts = []\n",
    "    for doc in school_info:\n",
    "        school = doc.get('School', 'Unknown School') #get school or unknown school\n",
    "        text = doc.get(\"Text\", \"No Text Available\")  # Get Text, or \"No Text Available\" if missing\n",
    "\n",
    "        # Clean up newline characters and non-breaking spaces\n",
    "        cleaned_text = text.replace(\"\\n\", \" \").replace(\"\\xa0\", \" \")\n",
    "        #cleaned_text = \" \".join(text.split()) \n",
    "\n",
    "        formatted_texts.append(f\"{school} \\n {cleaned_text}\")\n",
    "\n",
    "    context = \"\\n\\n\".join(formatted_texts)  # Join with double newlines for separation\n",
    "    return context"
   ]
  },
  {
   "cell_type": "markdown",
   "metadata": {},
   "source": [
    "# Generation"
   ]
  },
  {
   "cell_type": "code",
   "execution_count": null,
   "metadata": {},
   "outputs": [],
   "source": [
    "#get token from .env file\n",
    "\n",
    "# Load environment variables from .env file\n",
    "load_dotenv()\n",
    "\n",
    "# Retrieve the token\n",
    "token = os.getenv(\"TOKEN\")\n"
   ]
  },
  {
   "cell_type": "code",
   "execution_count": null,
   "metadata": {},
   "outputs": [],
   "source": [
    "# log into huggingface\n",
    "login(token = token)"
   ]
  },
  {
   "cell_type": "code",
   "execution_count": null,
   "metadata": {},
   "outputs": [],
   "source": [
    "#set up torch\n",
    "#if torch.backends.mps.is_available():\n",
    "    #torch_device = 'mps'\n",
    "if torch.cuda.is_available():\n",
    "    torch_device = 'cuda'\n",
    "else:\n",
    "    torch_device = 'cpu'"
   ]
  },
  {
   "cell_type": "code",
   "execution_count": null,
   "metadata": {},
   "outputs": [],
   "source": [
    "#load mistral model (don't run locally only run on AWS because of model size)\n",
    "model_checkpoint = \"mistralai/Mistral-Small-3.1-24B-Instruct-2503\"\n",
    "processor = AutoProcessor.from_pretrained(model_checkpoint)\n",
    "model = AutoModelForImageTextToText.from_pretrained( \n",
    "    model_checkpoint, \n",
    "    device_map = torch_device, \n",
    "    torch_dtype = torch.float32\n",
    ")"
   ]
  },
  {
   "cell_type": "code",
   "execution_count": null,
   "metadata": {},
   "outputs": [],
   "source": [
    "# set system prompt\n",
    "#set system prompt\n",
    "SYSTEM_PROMPT = \"\"\"You are a UVA undergraduate course scheduler. You use retrieved documents to create a schedule for one semester. \n",
    "Do not make up any courses, only use information from the documents. When you're not sure about some information, you say that you don't have the information and don't make up anything.\n",
    "If the user's question is not clear, ambiguous, or does not provide enough context for you to accurately answer the question, you do not try to answer it right away and you rather ask the user to clarify their request.\n",
    "A full time student should have between 12-15 credits per semester.\"\"\""
   ]
  },
  {
   "cell_type": "code",
   "execution_count": null,
   "metadata": {},
   "outputs": [],
   "source": [
    "#function to generate response from LLM\n",
    "def generate_response(query, k_m, k_s):\n",
    "    '''retrieve relevant documents from majors and schools and generate response to user query using mistral 3 model'''\n",
    "\n",
    "    #get documents\n",
    "    major_info, school_info = retrieve_major_and_school_info(query, k_m, k_s)\n",
    "    major = format_major_info_string(major_info)\n",
    "    school = format_school_info_string(school_info)\n",
    "    context = major + school\n",
    "\n",
    "    #construct message\n",
    "    messages = [\n",
    "        {'role': 'system', 'content': SYSTEM_PROMPT},\n",
    "        {'role':'user', 'content' : f\"Context:\\n{context}\\n\\nQuestion: {query}\"}\n",
    "    ]\n",
    "\n",
    "    #process input for mistral\n",
    "    text = processor.apply_chat_template(messages, tokenize = False, add_generation_prompt=True)\n",
    "    inputs = processor(text=text, return_tensors='pt').to(torch_device, dtype = torch.float32)\n",
    "\n",
    "    #generate response\n",
    "    generate_id = model.generate(**inputs, max_new_tokens = 200, do_sample = False)\n",
    "    decoded_output = processor.batch_decode(generate_id[:,inputs['input_ids'].shape[1]:], skip_special_tokens = True)[0]\n",
    "\n",
    "    return decoded_output"
   ]
  },
  {
   "cell_type": "code",
   "execution_count": null,
   "metadata": {},
   "outputs": [],
   "source": [
    "user_query = \"I'm a computer science major at UVA and I need a schedule for the spring semester of my third year\"\n",
    "response = generate_response(user_query, 10, 5)"
   ]
  }
 ],
 "metadata": {
  "kernelspec": {
   "display_name": "Python 3 (ipykernel)",
   "language": "python",
   "name": "python3"
  },
  "language_info": {
   "codemirror_mode": {
    "name": "ipython",
    "version": 3
   },
   "file_extension": ".py",
   "mimetype": "text/x-python",
   "name": "python",
   "nbconvert_exporter": "python",
   "pygments_lexer": "ipython3",
   "version": "3.10.12"
  }
 },
 "nbformat": 4,
 "nbformat_minor": 4
}
